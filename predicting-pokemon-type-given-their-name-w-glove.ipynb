{
 "cells": [
  {
   "cell_type": "markdown",
   "metadata": {
    "papermill": {
     "duration": 0.058691,
     "end_time": "2020-11-27T14:11:51.154605",
     "exception": false,
     "start_time": "2020-11-27T14:11:51.095914",
     "status": "completed"
    },
    "tags": []
   },
   "source": [
    "## Predicting Pokemon Type Given Their Name with GLOVE"
   ]
  },
  {
   "cell_type": "markdown",
   "metadata": {
    "papermill": {
     "duration": 0.056877,
     "end_time": "2020-11-27T14:11:51.270226",
     "exception": false,
     "start_time": "2020-11-27T14:11:51.213349",
     "status": "completed"
    },
    "tags": []
   },
   "source": [
    "Link to the original Kaggle Notebook I created : https://www.kaggle.com/fabienroger/predicting-pokemon-type-given-their-name-w-glove"
   ]
  },
  {
   "cell_type": "markdown",
   "metadata": {
    "papermill": {
     "duration": 0.056877,
     "end_time": "2020-11-27T14:11:51.270226",
     "exception": false,
     "start_time": "2020-11-27T14:11:51.213349",
     "status": "completed"
    },
    "tags": []
   },
   "source": [
    "# Exploring the Data"
   ]
  },
  {
   "cell_type": "code",
   "execution_count": 1,
   "metadata": {
    "_cell_guid": "b1076dfc-b9ad-4769-8c92-a6c4dae69d19",
    "_uuid": "8f2839f25d086af736a60e9eeb907d3b93b6e0e5",
    "execution": {
     "iopub.execute_input": "2020-11-27T14:11:51.389896Z",
     "iopub.status.busy": "2020-11-27T14:11:51.388875Z",
     "iopub.status.idle": "2020-11-27T14:11:51.391209Z",
     "shell.execute_reply": "2020-11-27T14:11:51.391722Z"
    },
    "papermill": {
     "duration": 0.062918,
     "end_time": "2020-11-27T14:11:51.391863",
     "exception": false,
     "start_time": "2020-11-27T14:11:51.328945",
     "status": "completed"
    },
    "tags": []
   },
   "outputs": [],
   "source": [
    "import numpy as np # linear algebra\n",
    "import pandas as pd # data processing, CSV file I/O (e.g. pd.read_csv)"
   ]
  },
  {
   "cell_type": "code",
   "execution_count": 2,
   "metadata": {
    "_cell_guid": "79c7e3d0-c299-4dcb-8224-4455121ee9b0",
    "_uuid": "d629ff2d2480ee46fbb7e2d37f6b5fab8052498a",
    "execution": {
     "iopub.execute_input": "2020-11-27T14:11:51.513546Z",
     "iopub.status.busy": "2020-11-27T14:11:51.512629Z",
     "iopub.status.idle": "2020-11-27T14:11:51.526522Z",
     "shell.execute_reply": "2020-11-27T14:11:51.527076Z"
    },
    "papermill": {
     "duration": 0.079044,
     "end_time": "2020-11-27T14:11:51.527211",
     "exception": false,
     "start_time": "2020-11-27T14:11:51.448167",
     "status": "completed"
    },
    "tags": []
   },
   "outputs": [
    {
     "data": {
      "text/plain": [
       "Index(['#', 'Name', 'Type 1', 'Type 2', 'Total', 'HP', 'Attack', 'Defense',\n",
       "       'Sp. Atk', 'Sp. Def', 'Speed', 'Generation', 'Legendary'],\n",
       "      dtype='object')"
      ]
     },
     "execution_count": 2,
     "metadata": {},
     "output_type": "execute_result"
    }
   ],
   "source": [
    "df = pd.read_csv('/kaggle/input/pokemon/Pokemon.csv')\n",
    "df.columns"
   ]
  },
  {
   "cell_type": "code",
   "execution_count": 3,
   "metadata": {
    "execution": {
     "iopub.execute_input": "2020-11-27T14:11:51.659544Z",
     "iopub.status.busy": "2020-11-27T14:11:51.658569Z",
     "iopub.status.idle": "2020-11-27T14:11:51.660993Z",
     "shell.execute_reply": "2020-11-27T14:11:51.661545Z"
    },
    "papermill": {
     "duration": 0.073038,
     "end_time": "2020-11-27T14:11:51.661678",
     "exception": false,
     "start_time": "2020-11-27T14:11:51.588640",
     "status": "completed"
    },
    "tags": []
   },
   "outputs": [],
   "source": [
    "df = df[['Name','Type 1']]"
   ]
  },
  {
   "cell_type": "code",
   "execution_count": 4,
   "metadata": {
    "execution": {
     "iopub.execute_input": "2020-11-27T14:11:51.786158Z",
     "iopub.status.busy": "2020-11-27T14:11:51.785258Z",
     "iopub.status.idle": "2020-11-27T14:11:51.793976Z",
     "shell.execute_reply": "2020-11-27T14:11:51.793431Z"
    },
    "papermill": {
     "duration": 0.074982,
     "end_time": "2020-11-27T14:11:51.794090",
     "exception": false,
     "start_time": "2020-11-27T14:11:51.719108",
     "status": "completed"
    },
    "tags": []
   },
   "outputs": [
    {
     "data": {
      "text/html": [
       "<div>\n",
       "<style scoped>\n",
       "    .dataframe tbody tr th:only-of-type {\n",
       "        vertical-align: middle;\n",
       "    }\n",
       "\n",
       "    .dataframe tbody tr th {\n",
       "        vertical-align: top;\n",
       "    }\n",
       "\n",
       "    .dataframe thead th {\n",
       "        text-align: right;\n",
       "    }\n",
       "</style>\n",
       "<table border=\"1\" class=\"dataframe\">\n",
       "  <thead>\n",
       "    <tr style=\"text-align: right;\">\n",
       "      <th></th>\n",
       "      <th>Name</th>\n",
       "      <th>Type 1</th>\n",
       "    </tr>\n",
       "  </thead>\n",
       "  <tbody>\n",
       "    <tr>\n",
       "      <th>0</th>\n",
       "      <td>Bulbasaur</td>\n",
       "      <td>Grass</td>\n",
       "    </tr>\n",
       "    <tr>\n",
       "      <th>1</th>\n",
       "      <td>Ivysaur</td>\n",
       "      <td>Grass</td>\n",
       "    </tr>\n",
       "    <tr>\n",
       "      <th>2</th>\n",
       "      <td>Venusaur</td>\n",
       "      <td>Grass</td>\n",
       "    </tr>\n",
       "    <tr>\n",
       "      <th>3</th>\n",
       "      <td>VenusaurMega Venusaur</td>\n",
       "      <td>Grass</td>\n",
       "    </tr>\n",
       "    <tr>\n",
       "      <th>4</th>\n",
       "      <td>Charmander</td>\n",
       "      <td>Fire</td>\n",
       "    </tr>\n",
       "  </tbody>\n",
       "</table>\n",
       "</div>"
      ],
      "text/plain": [
       "                    Name Type 1\n",
       "0              Bulbasaur  Grass\n",
       "1                Ivysaur  Grass\n",
       "2               Venusaur  Grass\n",
       "3  VenusaurMega Venusaur  Grass\n",
       "4             Charmander   Fire"
      ]
     },
     "execution_count": 4,
     "metadata": {},
     "output_type": "execute_result"
    }
   ],
   "source": [
    "df.head()"
   ]
  },
  {
   "cell_type": "code",
   "execution_count": 5,
   "metadata": {
    "execution": {
     "iopub.execute_input": "2020-11-27T14:11:51.918119Z",
     "iopub.status.busy": "2020-11-27T14:11:51.917121Z",
     "iopub.status.idle": "2020-11-27T14:11:51.919513Z",
     "shell.execute_reply": "2020-11-27T14:11:51.920027Z"
    },
    "papermill": {
     "duration": 0.066413,
     "end_time": "2020-11-27T14:11:51.920153",
     "exception": false,
     "start_time": "2020-11-27T14:11:51.853740",
     "status": "completed"
    },
    "tags": []
   },
   "outputs": [],
   "source": [
    "import matplotlib.pyplot as plt"
   ]
  },
  {
   "cell_type": "code",
   "execution_count": 6,
   "metadata": {
    "execution": {
     "iopub.execute_input": "2020-11-27T14:11:52.047167Z",
     "iopub.status.busy": "2020-11-27T14:11:52.046518Z",
     "iopub.status.idle": "2020-11-27T14:11:52.284967Z",
     "shell.execute_reply": "2020-11-27T14:11:52.284354Z"
    },
    "papermill": {
     "duration": 0.305785,
     "end_time": "2020-11-27T14:11:52.285077",
     "exception": false,
     "start_time": "2020-11-27T14:11:51.979292",
     "status": "completed"
    },
    "tags": []
   },
   "outputs": [
    {
     "data": {
      "image/png": "[encoded data removed]",
      "text/plain": [
       "<Figure size 432x288 with 1 Axes>"
      ]
     },
     "metadata": {
      "needs_background": "light"
     },
     "output_type": "display_data"
    },
    {
     "data": {
      "text/plain": [
       "Water       112\n",
       "Normal       98\n",
       "Grass        70\n",
       "Bug          69\n",
       "Psychic      57\n",
       "Fire         52\n",
       "Electric     44\n",
       "Rock         44\n",
       "Dragon       32\n",
       "Ghost        32\n",
       "Ground       32\n",
       "Dark         31\n",
       "Poison       28\n",
       "Fighting     27\n",
       "Steel        27\n",
       "Ice          24\n",
       "Fairy        17\n",
       "Flying        4\n",
       "Name: Type 1, dtype: int64"
      ]
     },
     "execution_count": 6,
     "metadata": {},
     "output_type": "execute_result"
    }
   ],
   "source": [
    "x = np.arange(len(df['Type 1'].unique()))\n",
    "plt.bar(x, df['Type 1'].value_counts())\n",
    "plt.show()\n",
    "\n",
    "df['Type 1'].value_counts()"
   ]
  },
  {
   "cell_type": "markdown",
   "metadata": {
    "papermill": {
     "duration": 0.05918,
     "end_time": "2020-11-27T14:11:52.412446",
     "exception": false,
     "start_time": "2020-11-27T14:11:52.353266",
     "status": "completed"
    },
    "tags": []
   },
   "source": [
    "## Making Naïve Predictions"
   ]
  },
  {
   "cell_type": "markdown",
   "metadata": {
    "papermill": {
     "duration": 0.060523,
     "end_time": "2020-11-27T14:11:52.532473",
     "exception": false,
     "start_time": "2020-11-27T14:11:52.471950",
     "status": "completed"
    },
    "tags": []
   },
   "source": [
    "So if we only predicted \"water\", our accuracy would be : "
   ]
  },
  {
   "cell_type": "code",
   "execution_count": 7,
   "metadata": {
    "execution": {
     "iopub.execute_input": "2020-11-27T14:11:52.660776Z",
     "iopub.status.busy": "2020-11-27T14:11:52.659922Z",
     "iopub.status.idle": "2020-11-27T14:11:52.664416Z",
     "shell.execute_reply": "2020-11-27T14:11:52.663777Z"
    },
    "papermill": {
     "duration": 0.070036,
     "end_time": "2020-11-27T14:11:52.664531",
     "exception": false,
     "start_time": "2020-11-27T14:11:52.594495",
     "status": "completed"
    },
    "tags": []
   },
   "outputs": [
    {
     "name": "stdout",
     "output_type": "stream",
     "text": [
      "0.14\n"
     ]
    }
   ],
   "source": [
    "print(df['Type 1'].value_counts()[0]/df.shape[0])"
   ]
  },
  {
   "cell_type": "markdown",
   "metadata": {
    "papermill": {
     "duration": 0.058003,
     "end_time": "2020-11-27T14:11:52.780003",
     "exception": false,
     "start_time": "2020-11-27T14:11:52.722000",
     "status": "completed"
    },
    "tags": []
   },
   "source": [
    "I calculate TF.IDF"
   ]
  },
  {
   "cell_type": "code",
   "execution_count": 8,
   "metadata": {
    "execution": {
     "iopub.execute_input": "2020-11-27T14:11:53.042718Z",
     "iopub.status.busy": "2020-11-27T14:11:52.907301Z",
     "iopub.status.idle": "2020-11-27T14:11:53.134787Z",
     "shell.execute_reply": "2020-11-27T14:11:53.133758Z"
    },
    "papermill": {
     "duration": 0.296473,
     "end_time": "2020-11-27T14:11:53.134933",
     "exception": false,
     "start_time": "2020-11-27T14:11:52.838460",
     "status": "completed"
    },
    "tags": []
   },
   "outputs": [
    {
     "data": {
      "text/html": [
       "<div>\n",
       "<style scoped>\n",
       "    .dataframe tbody tr th:only-of-type {\n",
       "        vertical-align: middle;\n",
       "    }\n",
       "\n",
       "    .dataframe tbody tr th {\n",
       "        vertical-align: top;\n",
       "    }\n",
       "\n",
       "    .dataframe thead th {\n",
       "        text-align: right;\n",
       "    }\n",
       "</style>\n",
       "<table border=\"1\" class=\"dataframe\">\n",
       "  <thead>\n",
       "    <tr style=\"text-align: right;\">\n",
       "      <th></th>\n",
       "      <th>Name</th>\n",
       "      <th>Type 1</th>\n",
       "      <th>0</th>\n",
       "      <th>1</th>\n",
       "      <th>2</th>\n",
       "      <th>3</th>\n",
       "      <th>4</th>\n",
       "      <th>5</th>\n",
       "      <th>6</th>\n",
       "      <th>7</th>\n",
       "      <th>...</th>\n",
       "      <th>tfidf16</th>\n",
       "      <th>tfidf17</th>\n",
       "      <th>tfidf18</th>\n",
       "      <th>tfidf19</th>\n",
       "      <th>tfidf20</th>\n",
       "      <th>tfidf21</th>\n",
       "      <th>tfidf22</th>\n",
       "      <th>tfidf23</th>\n",
       "      <th>tfidf24</th>\n",
       "      <th>tfidf25</th>\n",
       "    </tr>\n",
       "  </thead>\n",
       "  <tbody>\n",
       "    <tr>\n",
       "      <th>0</th>\n",
       "      <td>bulbasaur</td>\n",
       "      <td>Grass</td>\n",
       "      <td>2</td>\n",
       "      <td>2</td>\n",
       "      <td>0</td>\n",
       "      <td>0</td>\n",
       "      <td>0</td>\n",
       "      <td>0</td>\n",
       "      <td>0</td>\n",
       "      <td>0</td>\n",
       "      <td>...</td>\n",
       "      <td>0.0</td>\n",
       "      <td>1.413975</td>\n",
       "      <td>2.166511</td>\n",
       "      <td>0.0</td>\n",
       "      <td>6.090114</td>\n",
       "      <td>0.000000</td>\n",
       "      <td>0.0</td>\n",
       "      <td>0.0</td>\n",
       "      <td>0.000000</td>\n",
       "      <td>0.0</td>\n",
       "    </tr>\n",
       "    <tr>\n",
       "      <th>1</th>\n",
       "      <td>ivysaur</td>\n",
       "      <td>Grass</td>\n",
       "      <td>1</td>\n",
       "      <td>0</td>\n",
       "      <td>0</td>\n",
       "      <td>0</td>\n",
       "      <td>0</td>\n",
       "      <td>0</td>\n",
       "      <td>0</td>\n",
       "      <td>0</td>\n",
       "      <td>...</td>\n",
       "      <td>0.0</td>\n",
       "      <td>1.817968</td>\n",
       "      <td>2.785514</td>\n",
       "      <td>0.0</td>\n",
       "      <td>3.915073</td>\n",
       "      <td>16.854722</td>\n",
       "      <td>0.0</td>\n",
       "      <td>0.0</td>\n",
       "      <td>8.084785</td>\n",
       "      <td>0.0</td>\n",
       "    </tr>\n",
       "    <tr>\n",
       "      <th>2</th>\n",
       "      <td>venusaur</td>\n",
       "      <td>Grass</td>\n",
       "      <td>1</td>\n",
       "      <td>0</td>\n",
       "      <td>0</td>\n",
       "      <td>0</td>\n",
       "      <td>1</td>\n",
       "      <td>0</td>\n",
       "      <td>0</td>\n",
       "      <td>0</td>\n",
       "      <td>...</td>\n",
       "      <td>0.0</td>\n",
       "      <td>1.590722</td>\n",
       "      <td>2.437325</td>\n",
       "      <td>0.0</td>\n",
       "      <td>6.851378</td>\n",
       "      <td>14.747881</td>\n",
       "      <td>0.0</td>\n",
       "      <td>0.0</td>\n",
       "      <td>0.000000</td>\n",
       "      <td>0.0</td>\n",
       "    </tr>\n",
       "    <tr>\n",
       "      <th>3</th>\n",
       "      <td>venusaurmega venusaur</td>\n",
       "      <td>Grass</td>\n",
       "      <td>3</td>\n",
       "      <td>0</td>\n",
       "      <td>0</td>\n",
       "      <td>0</td>\n",
       "      <td>3</td>\n",
       "      <td>0</td>\n",
       "      <td>1</td>\n",
       "      <td>0</td>\n",
       "      <td>...</td>\n",
       "      <td>0.0</td>\n",
       "      <td>1.211979</td>\n",
       "      <td>1.857009</td>\n",
       "      <td>0.0</td>\n",
       "      <td>5.220097</td>\n",
       "      <td>11.236481</td>\n",
       "      <td>0.0</td>\n",
       "      <td>0.0</td>\n",
       "      <td>0.000000</td>\n",
       "      <td>0.0</td>\n",
       "    </tr>\n",
       "    <tr>\n",
       "      <th>4</th>\n",
       "      <td>charmander</td>\n",
       "      <td>Fire</td>\n",
       "      <td>2</td>\n",
       "      <td>0</td>\n",
       "      <td>1</td>\n",
       "      <td>1</td>\n",
       "      <td>1</td>\n",
       "      <td>0</td>\n",
       "      <td>0</td>\n",
       "      <td>1</td>\n",
       "      <td>...</td>\n",
       "      <td>0.0</td>\n",
       "      <td>2.545155</td>\n",
       "      <td>0.000000</td>\n",
       "      <td>0.0</td>\n",
       "      <td>0.000000</td>\n",
       "      <td>0.000000</td>\n",
       "      <td>0.0</td>\n",
       "      <td>0.0</td>\n",
       "      <td>0.000000</td>\n",
       "      <td>0.0</td>\n",
       "    </tr>\n",
       "  </tbody>\n",
       "</table>\n",
       "<p>5 rows × 54 columns</p>\n",
       "</div>"
      ],
      "text/plain": [
       "                    Name Type 1  0  1  2  3  4  5  6  7  ...  tfidf16  \\\n",
       "0              bulbasaur  Grass  2  2  0  0  0  0  0  0  ...      0.0   \n",
       "1                ivysaur  Grass  1  0  0  0  0  0  0  0  ...      0.0   \n",
       "2               venusaur  Grass  1  0  0  0  1  0  0  0  ...      0.0   \n",
       "3  venusaurmega venusaur  Grass  3  0  0  0  3  0  1  0  ...      0.0   \n",
       "4             charmander   Fire  2  0  1  1  1  0  0  1  ...      0.0   \n",
       "\n",
       "    tfidf17   tfidf18  tfidf19   tfidf20    tfidf21  tfidf22  tfidf23  \\\n",
       "0  1.413975  2.166511      0.0  6.090114   0.000000      0.0      0.0   \n",
       "1  1.817968  2.785514      0.0  3.915073  16.854722      0.0      0.0   \n",
       "2  1.590722  2.437325      0.0  6.851378  14.747881      0.0      0.0   \n",
       "3  1.211979  1.857009      0.0  5.220097  11.236481      0.0      0.0   \n",
       "4  2.545155  0.000000      0.0  0.000000   0.000000      0.0      0.0   \n",
       "\n",
       "    tfidf24  tfidf25  \n",
       "0  0.000000      0.0  \n",
       "1  8.084785      0.0  \n",
       "2  0.000000      0.0  \n",
       "3  0.000000      0.0  \n",
       "4  0.000000      0.0  \n",
       "\n",
       "[5 rows x 54 columns]"
      ]
     },
     "execution_count": 8,
     "metadata": {},
     "output_type": "execute_result"
    }
   ],
   "source": [
    "alphabet = 'abcdefghijklmnopqrstuvwxyz'\n",
    "\n",
    "df['Name'] = df['Name'].apply(lambda s:s.lower())\n",
    "\n",
    "def apparition(s,c):\n",
    "    r = 0\n",
    "    for x in s:\n",
    "        if x==c: r+=1\n",
    "    return r\n",
    "\n",
    "apparitions = []\n",
    "for i,c in enumerate(alphabet):\n",
    "    df[str(i)] = df['Name'].apply(apparition, args=c)\n",
    "    apparitions.append(sum(df[str(i)]))\n",
    "\n",
    "letters = sum(apparitions)\n",
    "\n",
    "for i,c in enumerate(alphabet):\n",
    "    tf = df[str(i)]/df['Name'].apply(len)\n",
    "    idf = letters/apparitions[i]\n",
    "    df['tfidf'+str(i)] = tf*idf\n",
    "df.head()"
   ]
  },
  {
   "cell_type": "markdown",
   "metadata": {
    "papermill": {
     "duration": 0.075207,
     "end_time": "2020-11-27T14:11:53.278344",
     "exception": false,
     "start_time": "2020-11-27T14:11:53.203137",
     "status": "completed"
    },
    "tags": []
   },
   "source": [
    "Prediction using logistic regression"
   ]
  },
  {
   "cell_type": "code",
   "execution_count": 9,
   "metadata": {
    "execution": {
     "iopub.execute_input": "2020-11-27T14:11:53.409427Z",
     "iopub.status.busy": "2020-11-27T14:11:53.408485Z",
     "iopub.status.idle": "2020-11-27T14:11:53.413647Z",
     "shell.execute_reply": "2020-11-27T14:11:53.413088Z"
    },
    "papermill": {
     "duration": 0.073827,
     "end_time": "2020-11-27T14:11:53.413749",
     "exception": false,
     "start_time": "2020-11-27T14:11:53.339922",
     "status": "completed"
    },
    "tags": []
   },
   "outputs": [],
   "source": [
    "X = df[['tfidf'+str(i) for i,c in enumerate(alphabet)]]\n",
    "y = df['Type 1']"
   ]
  },
  {
   "cell_type": "code",
   "execution_count": 10,
   "metadata": {
    "execution": {
     "iopub.execute_input": "2020-11-27T14:11:53.539088Z",
     "iopub.status.busy": "2020-11-27T14:11:53.538427Z",
     "iopub.status.idle": "2020-11-27T14:11:54.503295Z",
     "shell.execute_reply": "2020-11-27T14:11:54.502135Z"
    },
    "papermill": {
     "duration": 1.029839,
     "end_time": "2020-11-27T14:11:54.503459",
     "exception": false,
     "start_time": "2020-11-27T14:11:53.473620",
     "status": "completed"
    },
    "tags": []
   },
   "outputs": [],
   "source": [
    "from sklearn.linear_model import LogisticRegression\n",
    "from sklearn.model_selection import train_test_split"
   ]
  },
  {
   "cell_type": "code",
   "execution_count": 11,
   "metadata": {
    "execution": {
     "iopub.execute_input": "2020-11-27T14:11:54.637080Z",
     "iopub.status.busy": "2020-11-27T14:11:54.636280Z",
     "iopub.status.idle": "2020-11-27T14:11:54.640359Z",
     "shell.execute_reply": "2020-11-27T14:11:54.639795Z"
    },
    "papermill": {
     "duration": 0.075454,
     "end_time": "2020-11-27T14:11:54.640478",
     "exception": false,
     "start_time": "2020-11-27T14:11:54.565024",
     "status": "completed"
    },
    "tags": []
   },
   "outputs": [],
   "source": [
    "X_train, X_val, y_train, y_val = train_test_split(X, y, test_size=0.2,\n",
    "                                                  random_state=1)"
   ]
  },
  {
   "cell_type": "code",
   "execution_count": 12,
   "metadata": {
    "execution": {
     "iopub.execute_input": "2020-11-27T14:11:54.769296Z",
     "iopub.status.busy": "2020-11-27T14:11:54.768315Z",
     "iopub.status.idle": "2020-11-27T14:11:54.771396Z",
     "shell.execute_reply": "2020-11-27T14:11:54.770770Z"
    },
    "papermill": {
     "duration": 0.071324,
     "end_time": "2020-11-27T14:11:54.771492",
     "exception": false,
     "start_time": "2020-11-27T14:11:54.700168",
     "status": "completed"
    },
    "tags": []
   },
   "outputs": [],
   "source": [
    "reg = LogisticRegression(max_iter = 10000, C=0.1)"
   ]
  },
  {
   "cell_type": "code",
   "execution_count": 13,
   "metadata": {
    "execution": {
     "iopub.execute_input": "2020-11-27T14:11:54.911284Z",
     "iopub.status.busy": "2020-11-27T14:11:54.910519Z",
     "iopub.status.idle": "2020-11-27T14:11:55.321346Z",
     "shell.execute_reply": "2020-11-27T14:11:55.322175Z"
    },
    "papermill": {
     "duration": 0.487267,
     "end_time": "2020-11-27T14:11:55.322434",
     "exception": false,
     "start_time": "2020-11-27T14:11:54.835167",
     "status": "completed"
    },
    "tags": []
   },
   "outputs": [
    {
     "data": {
      "text/plain": [
       "LogisticRegression(C=0.1, max_iter=10000)"
      ]
     },
     "execution_count": 13,
     "metadata": {},
     "output_type": "execute_result"
    }
   ],
   "source": [
    "reg.fit(X_train, y_train)"
   ]
  },
  {
   "cell_type": "code",
   "execution_count": 14,
   "metadata": {
    "execution": {
     "iopub.execute_input": "2020-11-27T14:11:55.541620Z",
     "iopub.status.busy": "2020-11-27T14:11:55.540534Z",
     "iopub.status.idle": "2020-11-27T14:11:55.543399Z",
     "shell.execute_reply": "2020-11-27T14:11:55.542552Z"
    },
    "papermill": {
     "duration": 0.123721,
     "end_time": "2020-11-27T14:11:55.543549",
     "exception": false,
     "start_time": "2020-11-27T14:11:55.419828",
     "status": "completed"
    },
    "tags": []
   },
   "outputs": [],
   "source": [
    "from sklearn.metrics import accuracy_score"
   ]
  },
  {
   "cell_type": "code",
   "execution_count": 15,
   "metadata": {
    "execution": {
     "iopub.execute_input": "2020-11-27T14:11:55.739092Z",
     "iopub.status.busy": "2020-11-27T14:11:55.738054Z",
     "iopub.status.idle": "2020-11-27T14:11:55.754166Z",
     "shell.execute_reply": "2020-11-27T14:11:55.755472Z"
    },
    "papermill": {
     "duration": 0.114375,
     "end_time": "2020-11-27T14:11:55.755649",
     "exception": false,
     "start_time": "2020-11-27T14:11:55.641274",
     "status": "completed"
    },
    "tags": []
   },
   "outputs": [
    {
     "name": "stdout",
     "output_type": "stream",
     "text": [
      "0.26875\n",
      "0.16875\n"
     ]
    }
   ],
   "source": [
    "y_pred = reg.predict(X_val)\n",
    "y_pred_train = reg.predict(X_train)\n",
    "print(accuracy_score(y_pred_train,y_train))\n",
    "print(accuracy_score(y_pred,y_val))"
   ]
  },
  {
   "cell_type": "markdown",
   "metadata": {
    "papermill": {
     "duration": 0.113786,
     "end_time": "2020-11-27T14:11:55.962966",
     "exception": false,
     "start_time": "2020-11-27T14:11:55.849180",
     "status": "completed"
    },
    "tags": []
   },
   "source": [
    "That's not much better than only gessing \"water\". Let's try to do something better by using a corpus of text, and it seems to be hard to reduce overfitting."
   ]
  },
  {
   "cell_type": "markdown",
   "metadata": {
    "papermill": {
     "duration": 0.084898,
     "end_time": "2020-11-27T14:11:56.135139",
     "exception": false,
     "start_time": "2020-11-27T14:11:56.050241",
     "status": "completed"
    },
    "tags": []
   },
   "source": [
    "# Using GLOVE to make predictions using a LSTM trained to recognize synonyms of the types (Unsuccessful)"
   ]
  },
  {
   "cell_type": "code",
   "execution_count": 16,
   "metadata": {
    "execution": {
     "iopub.execute_input": "2020-11-27T14:11:56.311186Z",
     "iopub.status.busy": "2020-11-27T14:11:56.310256Z",
     "iopub.status.idle": "2020-11-27T14:11:56.312804Z",
     "shell.execute_reply": "2020-11-27T14:11:56.312024Z"
    },
    "papermill": {
     "duration": 0.092449,
     "end_time": "2020-11-27T14:11:56.312938",
     "exception": false,
     "start_time": "2020-11-27T14:11:56.220489",
     "status": "completed"
    },
    "tags": []
   },
   "outputs": [],
   "source": [
    "import re"
   ]
  },
  {
   "cell_type": "code",
   "execution_count": 17,
   "metadata": {
    "execution": {
     "iopub.execute_input": "2020-11-27T14:11:56.486614Z",
     "iopub.status.busy": "2020-11-27T14:11:56.485559Z",
     "iopub.status.idle": "2020-11-27T14:13:47.083485Z",
     "shell.execute_reply": "2020-11-27T14:13:47.084282Z"
    },
    "papermill": {
     "duration": 110.68821,
     "end_time": "2020-11-27T14:13:47.084494",
     "exception": false,
     "start_time": "2020-11-27T14:11:56.396284",
     "status": "completed"
    },
    "tags": []
   },
   "outputs": [
    {
     "name": "stdout",
     "output_type": "stream",
     "text": [
      "[==================================================] 100.0% 128.1/128.1MB downloaded\n",
      "[('fires', 0.7522280812263489), ('fired', 0.7405155897140503), ('firing', 0.7302654385566711), ('attack', 0.7193385362625122), ('explosion', 0.7003915309906006)]\n"
     ]
    }
   ],
   "source": [
    "import gensim.downloader as api\n",
    "glove = api.load(\"glove-wiki-gigaword-100\")\n",
    "bests = glove.most_similar(\"fire\", topn= 5)\n",
    "print(bests)"
   ]
  },
  {
   "cell_type": "code",
   "execution_count": 18,
   "metadata": {
    "execution": {
     "iopub.execute_input": "2020-11-27T14:13:59.674510Z",
     "iopub.status.busy": "2020-11-27T14:13:59.673220Z",
     "iopub.status.idle": "2020-11-27T14:13:59.702413Z",
     "shell.execute_reply": "2020-11-27T14:13:59.701215Z"
    },
    "papermill": {
     "duration": 6.501706,
     "end_time": "2020-11-27T14:13:59.702521",
     "exception": false,
     "start_time": "2020-11-27T14:13:53.200815",
     "status": "completed"
    },
    "tags": []
   },
   "outputs": [
    {
     "name": "stdout",
     "output_type": "stream",
     "text": [
      "fires 0.7522280812263489\n",
      " fired 0.7405155897140503\n",
      " firing 0.7302654385566711\n",
      " attack 0.7193385362625122\n",
      " explosion 0.7003915309906006\n",
      "\n"
     ]
    }
   ],
   "source": [
    "\n",
    "bests = glove.most_similar(\"fire\", topn= 5)\n",
    "print(' '.join([str(x[0])+' '+str(x[1])+'\\n' for x in bests]))"
   ]
  },
  {
   "cell_type": "code",
   "execution_count": 19,
   "metadata": {
    "execution": {
     "iopub.execute_input": "2020-11-27T14:14:11.934225Z",
     "iopub.status.busy": "2020-11-27T14:14:11.932948Z",
     "iopub.status.idle": "2020-11-27T14:14:11.962729Z",
     "shell.execute_reply": "2020-11-27T14:14:11.963499Z"
    },
    "papermill": {
     "duration": 6.220254,
     "end_time": "2020-11-27T14:14:11.963661",
     "exception": false,
     "start_time": "2020-11-27T14:14:05.743407",
     "status": "completed"
    },
    "tags": []
   },
   "outputs": [
    {
     "name": "stdout",
     "output_type": "stream",
     "text": [
      "flew fly planes jet aircraft plane flight airplane airplanes air helicopter flown fighter landing crashed flies aboard pilot jets flights carrying helicopters pilots landed reconnaissance ground traveling carrier aerial flag spotted train airlines off moving airliner cargo crash ship c-130 force missions crew craft piloting squadron hawk training carried eagle balloon collided boat sky airliners overhead combat returning b-17 passenger bound light ships travelling aviation squadrons down out jetliner away airline taking went passengers piloted wings grounded sailing fleet hijacked red f-16 dropping gliding when bombers navy small boats crashing chopper arriving 747 sending boarding glider seen stopped space chartered radar travel circled heading flags weather altitude crews sea operated shuttle airport sail taken cruise heavy boeing coming arrived climbing day tactical approaching leaving around driving airborne warplanes up vessel fog patrol boarded trip crashes kite back night turned unmanned sorties before bomber airways f-15 blue walking trains vehicle took making while ride used car as fighters tail saw collision mission on from runway cessna fire onto returned turning being haul like sight raf going over equipment made drones circling military few missiles two seeing balloons carriers carry equipped jumping just days rocket striking takeoff well fluttering field short started one then instead guided spacecraft base kept time again came same apart british sent into personnel picked four lights passing american only 737 three bus spaceship take after snow ball operational high aloft kites speed satellites them warning putting parachute there warships bomb wind instructor shoot the bombs they looking concorde supersonic winged approached with royal enemy first birds way all using having command truck another buses so six naval foot stop catching cars drifting cruising wing start operations a f-16s inside put gear trained turboprop dragon it bouncing observation moved missing safely controllers large jetliners missile began for surveillance propeller refueling pulling stuck skies aerobatic front wearing at airforce engines several commercial hovering go working keep rest airfield blowing because even strike traffic lift other cabin submarine catch trips swooping black christmas choppers hours patrols transport attached tree headed ocean big come nasa us too dropped waiting hand deployed escort trucks shot downed but stealth luftwaffe prototype left parts was capable gliders been feet some hunting airspace vehicles eight powered exercises though cross ferrying struck near routes sighted long escorted by summer watch morning bombed skis little gone through now caught him course strikes blow traveled cloud accident doing attack later leave artillery bringing diving part aeroplanes hitting riding home earth moon duty hercules man wheel five once debris stationed behind ever u-2 use goals_none departing across hit vessels suddenly still falling nine patrolling placed spinning he stopping distance fliers mountain playing lightning tiger atlantic during operate wreckage yellow hangar united service seven low travelers almost along dive either helmet flames marines soyuz full last drove upon nose tarmac great no parachuting war airbus here smoke rain shortly although team brought racing or in specially than fast departed assigned able holding lufthansa could both many keeping spotting cockpit see\n"
     ]
    }
   ],
   "source": [
    "bests = glove.most_similar(\"flying\", topn= 500)\n",
    "print(' '.join([str(x[0]) for x in bests]))"
   ]
  },
  {
   "cell_type": "code",
   "execution_count": 20,
   "metadata": {
    "execution": {
     "iopub.execute_input": "2020-11-27T14:14:24.147004Z",
     "iopub.status.busy": "2020-11-27T14:14:24.146181Z",
     "iopub.status.idle": "2020-11-27T14:14:28.009847Z",
     "shell.execute_reply": "2020-11-27T14:14:28.008955Z"
    },
    "papermill": {
     "duration": 10.384536,
     "end_time": "2020-11-27T14:14:28.009995",
     "exception": false,
     "start_time": "2020-11-27T14:14:17.625459",
     "status": "completed"
    },
    "tags": []
   },
   "outputs": [],
   "source": [
    "from tensorflow.keras import Model\n",
    "from tensorflow.keras.layers import Dense, LSTM, Input"
   ]
  },
  {
   "cell_type": "code",
   "execution_count": 21,
   "metadata": {
    "execution": {
     "iopub.execute_input": "2020-11-27T14:14:39.606326Z",
     "iopub.status.busy": "2020-11-27T14:14:39.605350Z",
     "iopub.status.idle": "2020-11-27T14:14:39.609918Z",
     "shell.execute_reply": "2020-11-27T14:14:39.609362Z"
    },
    "papermill": {
     "duration": 5.605545,
     "end_time": "2020-11-27T14:14:39.610042",
     "exception": false,
     "start_time": "2020-11-27T14:14:34.004497",
     "status": "completed"
    },
    "tags": []
   },
   "outputs": [],
   "source": [
    "vocab_size = 27\n",
    "pk_types = len(df['Type 1'].unique())\n",
    "max_name_length = df['Name'].map(len).max()"
   ]
  },
  {
   "cell_type": "code",
   "execution_count": 22,
   "metadata": {
    "execution": {
     "iopub.execute_input": "2020-11-27T14:14:51.449799Z",
     "iopub.status.busy": "2020-11-27T14:14:51.447159Z",
     "iopub.status.idle": "2020-11-27T14:14:51.450997Z",
     "shell.execute_reply": "2020-11-27T14:14:51.451956Z"
    },
    "papermill": {
     "duration": 5.652011,
     "end_time": "2020-11-27T14:14:51.452187",
     "exception": false,
     "start_time": "2020-11-27T14:14:45.800176",
     "status": "completed"
    },
    "tags": []
   },
   "outputs": [],
   "source": [
    "import tensorflow as tf"
   ]
  },
  {
   "cell_type": "code",
   "execution_count": 23,
   "metadata": {
    "execution": {
     "iopub.execute_input": "2020-11-27T14:15:04.366846Z",
     "iopub.status.busy": "2020-11-27T14:15:04.365921Z",
     "iopub.status.idle": "2020-11-27T14:15:07.739492Z",
     "shell.execute_reply": "2020-11-27T14:15:07.738417Z"
    },
    "papermill": {
     "duration": 10.063374,
     "end_time": "2020-11-27T14:15:07.739631",
     "exception": false,
     "start_time": "2020-11-27T14:14:57.676257",
     "status": "completed"
    },
    "tags": []
   },
   "outputs": [],
   "source": [
    "'''tpu = tf.distribute.cluster_resolver.TPUClusterResolver()\n",
    "tf.config.experimental_connect_to_cluster(tpu)\n",
    "tf.tpu.experimental.initialize_tpu_system(tpu)\n",
    "\n",
    "# instantiate a distribution strategy\n",
    "tpu_strategy = tf.distribute.experimental.TPUStrategy(tpu)\n",
    "\n",
    "# instantiating the model in the strategy scope creates the model on the TPU\n",
    "with tpu_strategy.scope():'''\n",
    "inputs = Input(shape=(max_name_length,vocab_size))\n",
    "X = LSTM(32, return_sequences=True, recurrent_dropout = 0.3 , dropout = 0.3)(inputs)\n",
    "X = LSTM(32, recurrent_dropout = 0.2 , dropout = 0.2)(X)\n",
    "X = Dense(pk_types, activation='softmax')(X)\n",
    "model = Model(inputs=inputs, outputs=X)\n",
    "\n",
    "model.compile(optimizer='adam',loss='categorical_crossentropy',metrics = ['accuracy'])"
   ]
  },
  {
   "cell_type": "code",
   "execution_count": 24,
   "metadata": {
    "execution": {
     "iopub.execute_input": "2020-11-27T14:15:19.514508Z",
     "iopub.status.busy": "2020-11-27T14:15:19.513582Z",
     "iopub.status.idle": "2020-11-27T14:15:19.517207Z",
     "shell.execute_reply": "2020-11-27T14:15:19.517784Z"
    },
    "papermill": {
     "duration": 5.732862,
     "end_time": "2020-11-27T14:15:19.517924",
     "exception": false,
     "start_time": "2020-11-27T14:15:13.785062",
     "status": "completed"
    },
    "tags": []
   },
   "outputs": [
    {
     "name": "stdout",
     "output_type": "stream",
     "text": [
      "['Grass', 'Fire', 'Water', 'Bug', 'Normal', 'Poison', 'Electric', 'Ground', 'Fairy', 'Fighting', 'Psychic', 'Rock', 'Ghost', 'Ice', 'Dragon', 'Dark', 'Steel', 'Flying']\n"
     ]
    }
   ],
   "source": [
    "types = list(df['Type 1'].unique())\n",
    "print(types)"
   ]
  },
  {
   "cell_type": "code",
   "execution_count": 25,
   "metadata": {
    "execution": {
     "iopub.execute_input": "2020-11-27T14:15:31.344163Z",
     "iopub.status.busy": "2020-11-27T14:15:31.343096Z",
     "iopub.status.idle": "2020-11-27T14:15:31.344995Z",
     "shell.execute_reply": "2020-11-27T14:15:31.345594Z"
    },
    "papermill": {
     "duration": 5.948411,
     "end_time": "2020-11-27T14:15:31.345734",
     "exception": false,
     "start_time": "2020-11-27T14:15:25.397323",
     "status": "completed"
    },
    "tags": []
   },
   "outputs": [],
   "source": [
    "alphabet = '#abcdefghijklmnopqrstuvwxyz'"
   ]
  },
  {
   "cell_type": "code",
   "execution_count": 26,
   "metadata": {
    "execution": {
     "iopub.execute_input": "2020-11-27T14:15:42.717327Z",
     "iopub.status.busy": "2020-11-27T14:15:42.715262Z",
     "iopub.status.idle": "2020-11-27T14:15:42.718339Z",
     "shell.execute_reply": "2020-11-27T14:15:42.718873Z"
    },
    "papermill": {
     "duration": 5.545397,
     "end_time": "2020-11-27T14:15:42.719026",
     "exception": false,
     "start_time": "2020-11-27T14:15:37.173629",
     "status": "completed"
    },
    "tags": []
   },
   "outputs": [],
   "source": [
    "def clean(s):\n",
    "    return re.sub(r'[^a-z]','', s.lower())\n",
    "\n",
    "def left_pad_and_clean(s):\n",
    "    s = clean(s)\n",
    "    if len(s)>=max_name_length:\n",
    "        return s[:max_name_length]\n",
    "    else:\n",
    "        while len(s)<max_name_length:\n",
    "            s = '#'+s\n",
    "        return s"
   ]
  },
  {
   "cell_type": "code",
   "execution_count": 27,
   "metadata": {
    "execution": {
     "iopub.execute_input": "2020-11-27T14:15:54.289927Z",
     "iopub.status.busy": "2020-11-27T14:15:54.288981Z",
     "iopub.status.idle": "2020-11-27T14:15:54.292348Z",
     "shell.execute_reply": "2020-11-27T14:15:54.293133Z"
    },
    "papermill": {
     "duration": 5.620036,
     "end_time": "2020-11-27T14:15:54.293333",
     "exception": false,
     "start_time": "2020-11-27T14:15:48.673297",
     "status": "completed"
    },
    "tags": []
   },
   "outputs": [
    {
     "name": "stdout",
     "output_type": "stream",
     "text": [
      "######################hey\n",
      "dejjf\n"
     ]
    }
   ],
   "source": [
    "print(left_pad_and_clean('  heyé--'))\n",
    "print(clean('dej JF,'))"
   ]
  },
  {
   "cell_type": "code",
   "execution_count": 28,
   "metadata": {
    "execution": {
     "iopub.execute_input": "2020-11-27T14:16:07.038176Z",
     "iopub.status.busy": "2020-11-27T14:16:07.036550Z",
     "iopub.status.idle": "2020-11-27T14:16:07.038881Z",
     "shell.execute_reply": "2020-11-27T14:16:07.039388Z"
    },
    "papermill": {
     "duration": 6.032185,
     "end_time": "2020-11-27T14:16:07.039510",
     "exception": false,
     "start_time": "2020-11-27T14:16:01.007325",
     "status": "completed"
    },
    "tags": []
   },
   "outputs": [],
   "source": [
    "def str_to_vec(s):\n",
    "    s = left_pad_and_clean(s)\n",
    "    vec = np.zeros(shape=(max_name_length,vocab_size))\n",
    "    for i,c in enumerate(s):\n",
    "        if c not in alphabet:print(c)\n",
    "        vec[i,alphabet.index(c)] = 1\n",
    "    return vec"
   ]
  },
  {
   "cell_type": "code",
   "execution_count": 29,
   "metadata": {
    "execution": {
     "iopub.execute_input": "2020-11-27T14:16:18.558944Z",
     "iopub.status.busy": "2020-11-27T14:16:18.558170Z",
     "iopub.status.idle": "2020-11-27T14:16:18.561235Z",
     "shell.execute_reply": "2020-11-27T14:16:18.561794Z"
    },
    "papermill": {
     "duration": 5.579721,
     "end_time": "2020-11-27T14:16:18.561980",
     "exception": false,
     "start_time": "2020-11-27T14:16:12.982259",
     "status": "completed"
    },
    "tags": []
   },
   "outputs": [
    {
     "data": {
      "text/plain": [
       "(25, 27)"
      ]
     },
     "execution_count": 29,
     "metadata": {},
     "output_type": "execute_result"
    }
   ],
   "source": [
    "str_to_vec('azerty').shape"
   ]
  },
  {
   "cell_type": "code",
   "execution_count": 30,
   "metadata": {
    "execution": {
     "iopub.execute_input": "2020-11-27T14:16:30.008700Z",
     "iopub.status.busy": "2020-11-27T14:16:30.006643Z",
     "iopub.status.idle": "2020-11-27T14:16:30.912019Z",
     "shell.execute_reply": "2020-11-27T14:16:30.911123Z"
    },
    "papermill": {
     "duration": 6.485351,
     "end_time": "2020-11-27T14:16:30.912131",
     "exception": false,
     "start_time": "2020-11-27T14:16:24.426780",
     "status": "completed"
    },
    "tags": []
   },
   "outputs": [],
   "source": [
    "n = 500\n",
    "#subtask_df = pd.DataFrame(columns=['X','y'])\n",
    "N = n*len(types)\n",
    "stX = np.zeros(shape=(N,max_name_length,vocab_size))\n",
    "stXweight = np.zeros(shape=(N,1))\n",
    "sty = np.zeros(shape=(N,len(types)))\n",
    "act_i = 0\n",
    "for j,t in enumerate(types):\n",
    "    ms = glove.most_similar(clean(t), topn=n-1)\n",
    "    close_words = [clean(str(x[0])) for x in ms]\n",
    "    close_words_w = [x[1] for x in ms]\n",
    "    close_words.append(clean(t))\n",
    "    close_words_w.append(1)\n",
    "    for i,w in enumerate(close_words):\n",
    "        vec = str_to_vec(w)\n",
    "        stX[act_i,:,:] = vec\n",
    "        stXweight[act_i,0] = close_words_w[i]\n",
    "        sty[act_i,j] = 1\n",
    "        act_i += 1\n",
    "        \n",
    "        #subtask_df = subtask_df.append({'X': str_to_vec(w),'y':str_to_vec(cleant)}, ignore_index=True)\n",
    "    \n"
   ]
  },
  {
   "cell_type": "code",
   "execution_count": 31,
   "metadata": {
    "execution": {
     "iopub.execute_input": "2020-11-27T14:16:42.729977Z",
     "iopub.status.busy": "2020-11-27T14:16:42.727182Z",
     "iopub.status.idle": "2020-11-27T14:16:42.732810Z",
     "shell.execute_reply": "2020-11-27T14:16:42.732172Z"
    },
    "papermill": {
     "duration": 5.791709,
     "end_time": "2020-11-27T14:16:42.732916",
     "exception": false,
     "start_time": "2020-11-27T14:16:36.941207",
     "status": "completed"
    },
    "tags": []
   },
   "outputs": [
    {
     "name": "stdout",
     "output_type": "stream",
     "text": [
      "(9000, 25, 27) (9000, 18)\n"
     ]
    }
   ],
   "source": [
    "print(stX.shape, sty.shape)"
   ]
  },
  {
   "cell_type": "code",
   "execution_count": 32,
   "metadata": {
    "execution": {
     "iopub.execute_input": "2020-11-27T14:16:54.030619Z",
     "iopub.status.busy": "2020-11-27T14:16:54.029119Z",
     "iopub.status.idle": "2020-11-27T14:16:54.049746Z",
     "shell.execute_reply": "2020-11-27T14:16:54.050245Z"
    },
    "papermill": {
     "duration": 5.806506,
     "end_time": "2020-11-27T14:16:54.050425",
     "exception": false,
     "start_time": "2020-11-27T14:16:48.243919",
     "status": "completed"
    },
    "tags": []
   },
   "outputs": [],
   "source": [
    "from sklearn.model_selection import train_test_split\n",
    "stX_train, stX_val,stXweight_train,stXweight_val, sty_train, sty_val =\\\n",
    "    train_test_split(stX, stXweight,sty,shuffle=True,\\\n",
    "                     test_size=0.1, random_state=1)"
   ]
  },
  {
   "cell_type": "code",
   "execution_count": 33,
   "metadata": {
    "execution": {
     "iopub.execute_input": "2020-11-27T14:17:06.707930Z",
     "iopub.status.busy": "2020-11-27T14:17:06.707167Z",
     "iopub.status.idle": "2020-11-27T14:21:40.292063Z",
     "shell.execute_reply": "2020-11-27T14:21:40.291563Z"
    },
    "papermill": {
     "duration": 280.349192,
     "end_time": "2020-11-27T14:21:40.292171",
     "exception": false,
     "start_time": "2020-11-27T14:16:59.942979",
     "status": "completed"
    },
    "tags": []
   },
   "outputs": [
    {
     "name": "stdout",
     "output_type": "stream",
     "text": [
      "Epoch 1/20\n",
      "64/64 [==============================] - 12s 183ms/step - loss: 1.3733 - accuracy: 0.0554 - val_loss: 1.3712 - val_accuracy: 0.0533\n",
      "Epoch 2/20\n",
      "64/64 [==============================] - 11s 170ms/step - loss: 1.3674 - accuracy: 0.0599 - val_loss: 1.3654 - val_accuracy: 0.0667\n",
      "Epoch 3/20\n",
      "64/64 [==============================] - 18s 283ms/step - loss: 1.3579 - accuracy: 0.0807 - val_loss: 1.3554 - val_accuracy: 0.0956\n",
      "Epoch 4/20\n",
      "64/64 [==============================] - 12s 194ms/step - loss: 1.3552 - accuracy: 0.0819 - val_loss: 1.3521 - val_accuracy: 0.0911\n",
      "Epoch 5/20\n",
      "64/64 [==============================] - 12s 191ms/step - loss: 1.3518 - accuracy: 0.0858 - val_loss: 1.3534 - val_accuracy: 0.0978\n",
      "Epoch 6/20\n",
      "64/64 [==============================] - 11s 174ms/step - loss: 1.3491 - accuracy: 0.0865 - val_loss: 1.3507 - val_accuracy: 0.0878\n",
      "Epoch 7/20\n",
      "64/64 [==============================] - 12s 186ms/step - loss: 1.3479 - accuracy: 0.0867 - val_loss: 1.3510 - val_accuracy: 0.0900\n",
      "Epoch 8/20\n",
      "64/64 [==============================] - 14s 226ms/step - loss: 1.3462 - accuracy: 0.0904 - val_loss: 1.3501 - val_accuracy: 0.0944\n",
      "Epoch 9/20\n",
      "64/64 [==============================] - 16s 250ms/step - loss: 1.3458 - accuracy: 0.0899 - val_loss: 1.3483 - val_accuracy: 0.0956\n",
      "Epoch 10/20\n",
      "64/64 [==============================] - 11s 176ms/step - loss: 1.3431 - accuracy: 0.0912 - val_loss: 1.3480 - val_accuracy: 0.0944\n",
      "Epoch 11/20\n",
      "64/64 [==============================] - 11s 175ms/step - loss: 1.3421 - accuracy: 0.0963 - val_loss: 1.3466 - val_accuracy: 0.0956\n",
      "Epoch 12/20\n",
      "64/64 [==============================] - 12s 194ms/step - loss: 1.3404 - accuracy: 0.0969 - val_loss: 1.3474 - val_accuracy: 0.1044\n",
      "Epoch 13/20\n",
      "64/64 [==============================] - 12s 185ms/step - loss: 1.3392 - accuracy: 0.0977 - val_loss: 1.3479 - val_accuracy: 0.0933\n",
      "Epoch 14/20\n",
      "64/64 [==============================] - 19s 300ms/step - loss: 1.3380 - accuracy: 0.0988 - val_loss: 1.3444 - val_accuracy: 0.0989\n",
      "Epoch 15/20\n",
      "64/64 [==============================] - 12s 181ms/step - loss: 1.3371 - accuracy: 0.0973 - val_loss: 1.3432 - val_accuracy: 0.0956\n",
      "Epoch 16/20\n",
      "64/64 [==============================] - 12s 185ms/step - loss: 1.3343 - accuracy: 0.0988 - val_loss: 1.3447 - val_accuracy: 0.0967\n",
      "Epoch 17/20\n",
      "64/64 [==============================] - 12s 187ms/step - loss: 1.3349 - accuracy: 0.1016 - val_loss: 1.3436 - val_accuracy: 0.0978\n",
      "Epoch 18/20\n",
      "64/64 [==============================] - 13s 197ms/step - loss: 1.3321 - accuracy: 0.1016 - val_loss: 1.3419 - val_accuracy: 0.0989\n",
      "Epoch 19/20\n",
      "64/64 [==============================] - 15s 227ms/step - loss: 1.3303 - accuracy: 0.1005 - val_loss: 1.3402 - val_accuracy: 0.1056\n",
      "Epoch 20/20\n",
      "64/64 [==============================] - 16s 255ms/step - loss: 1.3292 - accuracy: 0.1072 - val_loss: 1.3422 - val_accuracy: 0.1011\n"
     ]
    },
    {
     "data": {
      "text/plain": [
       "<tensorflow.python.keras.callbacks.History at 0x7f600005c790>"
      ]
     },
     "execution_count": 33,
     "metadata": {},
     "output_type": "execute_result"
    }
   ],
   "source": [
    "model.fit(stX_train, sty_train,sample_weight=stXweight_train,batch_size=128,\\\n",
    "          epochs=20, validation_data = (stX_val, sty_val,stXweight_val),verbose=1)"
   ]
  },
  {
   "cell_type": "code",
   "execution_count": 34,
   "metadata": {
    "execution": {
     "iopub.execute_input": "2020-11-27T14:21:53.189759Z",
     "iopub.status.busy": "2020-11-27T14:21:53.188946Z",
     "iopub.status.idle": "2020-11-27T14:21:57.762767Z",
     "shell.execute_reply": "2020-11-27T14:21:57.762029Z"
    },
    "papermill": {
     "duration": 11.379887,
     "end_time": "2020-11-27T14:21:57.762916",
     "exception": false,
     "start_time": "2020-11-27T14:21:46.383029",
     "status": "completed"
    },
    "tags": []
   },
   "outputs": [
    {
     "name": "stdout",
     "output_type": "stream",
     "text": [
      "29/29 [==============================] - 0s 12ms/step - loss: 1.3422 - accuracy: 0.1011\n",
      "0.10111111402511597\n",
      "254/254 [==============================] - 3s 12ms/step - loss: 1.3181 - accuracy: 0.1177\n",
      "0.11765432357788086\n"
     ]
    }
   ],
   "source": [
    "r = model.evaluate(stX_val, sty_val,sample_weight=stXweight_val)\n",
    "print(r[1])\n",
    "r = model.evaluate(stX_train, sty_train,sample_weight=stXweight_train)\n",
    "print(r[1])"
   ]
  },
  {
   "cell_type": "markdown",
   "metadata": {
    "papermill": {
     "duration": 6.269971,
     "end_time": "2020-11-27T14:22:11.305128",
     "exception": false,
     "start_time": "2020-11-27T14:22:05.035157",
     "status": "completed"
    },
    "tags": []
   },
   "source": [
    "A lot of overfitting, but this might not be a problem. I want the model to \"remember\" the words associated with water. But I still want the model to generalize to imaginary words close to the original concept. Let's see if that's the case."
   ]
  },
  {
   "cell_type": "markdown",
   "metadata": {
    "papermill": {
     "duration": 6.948256,
     "end_time": "2020-11-27T14:22:24.672355",
     "exception": false,
     "start_time": "2020-11-27T14:22:17.724099",
     "status": "completed"
    },
    "tags": []
   },
   "source": [
    "## Direct prediction"
   ]
  },
  {
   "cell_type": "code",
   "execution_count": 35,
   "metadata": {
    "execution": {
     "iopub.execute_input": "2020-11-27T14:22:37.060001Z",
     "iopub.status.busy": "2020-11-27T14:22:37.058712Z",
     "iopub.status.idle": "2020-11-27T14:22:37.170358Z",
     "shell.execute_reply": "2020-11-27T14:22:37.169875Z"
    },
    "papermill": {
     "duration": 6.398997,
     "end_time": "2020-11-27T14:22:37.170485",
     "exception": false,
     "start_time": "2020-11-27T14:22:30.771488",
     "status": "completed"
    },
    "tags": []
   },
   "outputs": [],
   "source": [
    "N = df.shape[0]\n",
    "diX = np.zeros(shape=(N,max_name_length,vocab_size))\n",
    "diy = np.zeros(shape=(N,len(types)))\n",
    "for index, row in df.iterrows():\n",
    "    diX[index,:,:] = str_to_vec(row['Name'])\n",
    "    diy[index,types.index(row['Type 1'])] = 1"
   ]
  },
  {
   "cell_type": "code",
   "execution_count": null,
   "metadata": {
    "papermill": {
     "duration": 6.322808,
     "end_time": "2020-11-27T14:22:49.551489",
     "exception": false,
     "start_time": "2020-11-27T14:22:43.228681",
     "status": "completed"
    },
    "tags": []
   },
   "outputs": [],
   "source": []
  },
  {
   "cell_type": "code",
   "execution_count": 36,
   "metadata": {
    "execution": {
     "iopub.execute_input": "2020-11-27T14:23:02.810029Z",
     "iopub.status.busy": "2020-11-27T14:23:02.809035Z",
     "iopub.status.idle": "2020-11-27T14:23:03.802342Z",
     "shell.execute_reply": "2020-11-27T14:23:03.801464Z"
    },
    "papermill": {
     "duration": 7.5971,
     "end_time": "2020-11-27T14:23:03.802513",
     "exception": false,
     "start_time": "2020-11-27T14:22:56.205413",
     "status": "completed"
    },
    "tags": []
   },
   "outputs": [
    {
     "name": "stdout",
     "output_type": "stream",
     "text": [
      "(800, 25, 27)\n",
      "25/25 [==============================] - 1s 20ms/step - loss: 3.0265 - accuracy: 0.0550\n",
      "0.054999999701976776\n"
     ]
    }
   ],
   "source": [
    "print(diX.shape)\n",
    "r = model.evaluate(diX, diy)\n",
    "print(r[1])"
   ]
  },
  {
   "cell_type": "markdown",
   "metadata": {
    "papermill": {
     "duration": 6.22403,
     "end_time": "2020-11-27T14:23:16.534776",
     "exception": false,
     "start_time": "2020-11-27T14:23:10.310746",
     "status": "completed"
    },
    "tags": []
   },
   "source": [
    "Wut :'("
   ]
  },
  {
   "cell_type": "code",
   "execution_count": 37,
   "metadata": {
    "execution": {
     "iopub.execute_input": "2020-11-27T14:23:29.522187Z",
     "iopub.status.busy": "2020-11-27T14:23:29.520962Z",
     "iopub.status.idle": "2020-11-27T14:23:30.887893Z",
     "shell.execute_reply": "2020-11-27T14:23:30.886842Z"
    },
    "papermill": {
     "duration": 8.044059,
     "end_time": "2020-11-27T14:23:30.888014",
     "exception": false,
     "start_time": "2020-11-27T14:23:22.843955",
     "status": "completed"
    },
    "tags": []
   },
   "outputs": [],
   "source": [
    "ypred = model.predict(diX)\n",
    "ypred_words = model.predict(stX_val)"
   ]
  },
  {
   "cell_type": "code",
   "execution_count": 38,
   "metadata": {
    "execution": {
     "iopub.execute_input": "2020-11-27T14:23:43.108755Z",
     "iopub.status.busy": "2020-11-27T14:23:43.106892Z",
     "iopub.status.idle": "2020-11-27T14:23:43.332459Z",
     "shell.execute_reply": "2020-11-27T14:23:43.331905Z"
    },
    "papermill": {
     "duration": 6.443123,
     "end_time": "2020-11-27T14:23:43.332579",
     "exception": false,
     "start_time": "2020-11-27T14:23:36.889456",
     "status": "completed"
    },
    "tags": []
   },
   "outputs": [
    {
     "data": {
      "text/plain": [
       "(array([ 12.,  31.,  94.,  59., 154., 271.,  25.,  14.,  42.,  98.]),\n",
       " array([ 1. ,  2.6,  4.2,  5.8,  7.4,  9. , 10.6, 12.2, 13.8, 15.4, 17. ]),\n",
       " <a list of 10 Patch objects>)"
      ]
     },
     "execution_count": 38,
     "metadata": {},
     "output_type": "execute_result"
    },
    {
     "data": {
      "image/png": "[encoded data removed]",
      "text/plain": [
       "<Figure size 432x288 with 1 Axes>"
      ]
     },
     "metadata": {
      "needs_background": "light"
     },
     "output_type": "display_data"
    }
   ],
   "source": [
    "def amax(array):\n",
    "    return array.argmax()\n",
    "\n",
    "b = np.apply_along_axis(amax, 1, ypred_words)\n",
    "plt.hist(b, alpha = 0.5)\n",
    "a = np.apply_along_axis(amax, 1, ypred)\n",
    "plt.hist(a, alpha = 0.5)"
   ]
  },
  {
   "cell_type": "markdown",
   "metadata": {
    "papermill": {
     "duration": 6.196997,
     "end_time": "2020-11-27T14:23:55.549486",
     "exception": false,
     "start_time": "2020-11-27T14:23:49.352489",
     "status": "completed"
    },
    "tags": []
   },
   "source": [
    "Pokemons have only psychic names..."
   ]
  },
  {
   "cell_type": "markdown",
   "metadata": {
    "papermill": {
     "duration": 6.347628,
     "end_time": "2020-11-27T14:24:09.092281",
     "exception": false,
     "start_time": "2020-11-27T14:24:02.744653",
     "status": "completed"
    },
    "tags": []
   },
   "source": [
    "## Indirect Prediction"
   ]
  },
  {
   "cell_type": "markdown",
   "metadata": {
    "papermill": {
     "duration": 5.966491,
     "end_time": "2020-11-27T14:24:21.369755",
     "exception": false,
     "start_time": "2020-11-27T14:24:15.403264",
     "status": "completed"
    },
    "tags": []
   },
   "source": [
    "I fit pokemon names to the predicted types"
   ]
  },
  {
   "cell_type": "code",
   "execution_count": 39,
   "metadata": {
    "execution": {
     "iopub.execute_input": "2020-11-27T14:24:34.050013Z",
     "iopub.status.busy": "2020-11-27T14:24:34.048986Z",
     "iopub.status.idle": "2020-11-27T14:24:34.513943Z",
     "shell.execute_reply": "2020-11-27T14:24:34.513139Z"
    },
    "papermill": {
     "duration": 6.84408,
     "end_time": "2020-11-27T14:24:34.514103",
     "exception": false,
     "start_time": "2020-11-27T14:24:27.670023",
     "status": "completed"
    },
    "tags": []
   },
   "outputs": [],
   "source": [
    "X_of_predictor = model.predict(diX)\n",
    "y_of_predictor = np.apply_along_axis(lambda a:a.argmax(), 1, diy)"
   ]
  },
  {
   "cell_type": "code",
   "execution_count": 40,
   "metadata": {
    "execution": {
     "iopub.execute_input": "2020-11-27T14:24:47.166565Z",
     "iopub.status.busy": "2020-11-27T14:24:47.165278Z",
     "iopub.status.idle": "2020-11-27T14:24:47.331629Z",
     "shell.execute_reply": "2020-11-27T14:24:47.331105Z"
    },
    "papermill": {
     "duration": 6.579583,
     "end_time": "2020-11-27T14:24:47.331736",
     "exception": false,
     "start_time": "2020-11-27T14:24:40.752153",
     "status": "completed"
    },
    "tags": []
   },
   "outputs": [
    {
     "data": {
      "text/plain": [
       "(array([ 70.,  52., 112.,  69.,  98.,  28.,  44.,  32.,  17.,  27.,  57.,\n",
       "         44.,  32.,  24.,  32.,  31.,  27.,   4.]),\n",
       " array([ 0.        ,  0.94444444,  1.88888889,  2.83333333,  3.77777778,\n",
       "         4.72222222,  5.66666667,  6.61111111,  7.55555556,  8.5       ,\n",
       "         9.44444444, 10.38888889, 11.33333333, 12.27777778, 13.22222222,\n",
       "        14.16666667, 15.11111111, 16.05555556, 17.        ]),\n",
       " <a list of 18 Patch objects>)"
      ]
     },
     "execution_count": 40,
     "metadata": {},
     "output_type": "execute_result"
    },
    {
     "data": {
      "image/png": "[encoded data removed]",
      "text/plain": [
       "<Figure size 432x288 with 1 Axes>"
      ]
     },
     "metadata": {
      "needs_background": "light"
     },
     "output_type": "display_data"
    }
   ],
   "source": [
    "plt.hist(y_of_predictor, bins = len(types))"
   ]
  },
  {
   "cell_type": "code",
   "execution_count": 41,
   "metadata": {
    "execution": {
     "iopub.execute_input": "2020-11-27T14:24:59.822946Z",
     "iopub.status.busy": "2020-11-27T14:24:59.821262Z",
     "iopub.status.idle": "2020-11-27T14:24:59.824126Z",
     "shell.execute_reply": "2020-11-27T14:24:59.824825Z"
    },
    "papermill": {
     "duration": 6.522842,
     "end_time": "2020-11-27T14:24:59.825010",
     "exception": false,
     "start_time": "2020-11-27T14:24:53.302168",
     "status": "completed"
    },
    "tags": []
   },
   "outputs": [],
   "source": [
    "idiX_train, idiX_val, idiy_train, idiy_val =\\\n",
    "    train_test_split(X_of_predictor,y_of_predictor,test_size = 0.33,\\\n",
    "                     shuffle=True, random_state=1)"
   ]
  },
  {
   "cell_type": "code",
   "execution_count": 42,
   "metadata": {
    "execution": {
     "iopub.execute_input": "2020-11-27T14:25:12.990492Z",
     "iopub.status.busy": "2020-11-27T14:25:12.989554Z",
     "iopub.status.idle": "2020-11-27T14:25:12.991443Z",
     "shell.execute_reply": "2020-11-27T14:25:12.992018Z"
    },
    "papermill": {
     "duration": 6.358548,
     "end_time": "2020-11-27T14:25:12.992137",
     "exception": false,
     "start_time": "2020-11-27T14:25:06.633589",
     "status": "completed"
    },
    "tags": []
   },
   "outputs": [],
   "source": [
    "predictor = LogisticRegression()"
   ]
  },
  {
   "cell_type": "code",
   "execution_count": 43,
   "metadata": {
    "execution": {
     "iopub.execute_input": "2020-11-27T14:25:25.256305Z",
     "iopub.status.busy": "2020-11-27T14:25:25.255417Z",
     "iopub.status.idle": "2020-11-27T14:25:25.292157Z",
     "shell.execute_reply": "2020-11-27T14:25:25.291661Z"
    },
    "papermill": {
     "duration": 6.051437,
     "end_time": "2020-11-27T14:25:25.292255",
     "exception": false,
     "start_time": "2020-11-27T14:25:19.240818",
     "status": "completed"
    },
    "tags": []
   },
   "outputs": [
    {
     "data": {
      "text/plain": [
       "LogisticRegression()"
      ]
     },
     "execution_count": 43,
     "metadata": {},
     "output_type": "execute_result"
    }
   ],
   "source": [
    "predictor.fit(idiX_train, idiy_train)"
   ]
  },
  {
   "cell_type": "code",
   "execution_count": 44,
   "metadata": {
    "execution": {
     "iopub.execute_input": "2020-11-27T14:25:37.847810Z",
     "iopub.status.busy": "2020-11-27T14:25:37.846856Z",
     "iopub.status.idle": "2020-11-27T14:25:37.848848Z",
     "shell.execute_reply": "2020-11-27T14:25:37.849410Z"
    },
    "papermill": {
     "duration": 6.373503,
     "end_time": "2020-11-27T14:25:37.849535",
     "exception": false,
     "start_time": "2020-11-27T14:25:31.476032",
     "status": "completed"
    },
    "tags": []
   },
   "outputs": [],
   "source": [
    "ypred = predictor.predict(idiX_val)"
   ]
  },
  {
   "cell_type": "code",
   "execution_count": 45,
   "metadata": {
    "execution": {
     "iopub.execute_input": "2020-11-27T14:25:50.086042Z",
     "iopub.status.busy": "2020-11-27T14:25:50.085072Z",
     "iopub.status.idle": "2020-11-27T14:25:50.088199Z",
     "shell.execute_reply": "2020-11-27T14:25:50.088712Z"
    },
    "papermill": {
     "duration": 5.961573,
     "end_time": "2020-11-27T14:25:50.088841",
     "exception": false,
     "start_time": "2020-11-27T14:25:44.127268",
     "status": "completed"
    },
    "tags": []
   },
   "outputs": [
    {
     "data": {
      "text/plain": [
       "array([ 1,  0,  4,  1,  2,  6, 16, 10,  1,  2,  9,  0,  3,  2, 17,  0,  1,\n",
       "        4, 16,  2,  2, 10,  6,  1,  7,  5, 10,  2,  0,  5, 16, 13,  3,  1,\n",
       "       11,  9,  2, 13,  1, 15, 13, 16,  5,  2,  2,  4, 10,  7, 13,  6,  1,\n",
       "       10, 12,  0,  0,  2,  2,  6,  2,  2, 14,  6, 12,  6, 15,  6,  2,  0,\n",
       "       14,  4,  4, 13,  3,  4, 12,  7, 10,  2, 11,  0, 11,  3, 15, 14,  1,\n",
       "        1, 10, 13,  7, 12,  0,  8,  9, 12,  4, 10, 10,  8,  0,  3,  4,  1,\n",
       "       10,  3, 10,  2, 14,  6,  4,  2,  0,  6,  0, 11,  0,  0, 11,  5,  7,\n",
       "        0, 13,  2, 12,  4,  7,  0,  5, 13,  3,  9, 16,  2,  4, 16, 10,  4,\n",
       "        6,  1, 10,  0,  4, 12,  2,  3,  7, 16,  9, 14,  3, 15,  5,  4, 16,\n",
       "       14,  8,  7,  3,  2,  9,  6, 10, 16,  0,  4,  0,  9, 10,  1,  2, 13,\n",
       "        0,  0,  0,  3, 14,  2, 14,  0, 14,  2, 12,  6, 12,  3,  6,  2,  4,\n",
       "        4,  4,  2,  9,  3,  6,  5, 17, 12, 15,  4,  8,  2,  3,  2,  4, 10,\n",
       "       10,  0, 14,  8,  6, 16, 14, 10,  0,  3,  4, 10,  2,  2,  0,  5,  6,\n",
       "        6,  8,  4,  2,  5, 16,  1,  5,  8, 14,  4,  2,  3, 11,  7, 11, 10,\n",
       "        1,  3,  6,  2,  3, 11,  2, 12,  8, 11, 12,  6,  0, 11,  3,  4,  2,\n",
       "       10,  2, 12, 10,  2,  2,  1,  1,  9])"
      ]
     },
     "execution_count": 45,
     "metadata": {},
     "output_type": "execute_result"
    }
   ],
   "source": [
    "idiy_val"
   ]
  },
  {
   "cell_type": "code",
   "execution_count": 46,
   "metadata": {
    "execution": {
     "iopub.execute_input": "2020-11-27T14:26:02.759709Z",
     "iopub.status.busy": "2020-11-27T14:26:02.758732Z",
     "iopub.status.idle": "2020-11-27T14:26:02.761867Z",
     "shell.execute_reply": "2020-11-27T14:26:02.762331Z"
    },
    "papermill": {
     "duration": 6.416839,
     "end_time": "2020-11-27T14:26:02.762470",
     "exception": false,
     "start_time": "2020-11-27T14:25:56.345631",
     "status": "completed"
    },
    "tags": []
   },
   "outputs": [
    {
     "data": {
      "text/plain": [
       "array([2, 4, 4, 4, 2, 2, 4, 4, 4, 4, 4, 4, 4, 2, 2, 4, 4, 4, 4, 4, 4, 4,\n",
       "       4, 2, 2, 4, 2, 4, 4, 4, 2, 4, 2, 4, 2, 4, 4, 2, 2, 4, 4, 4, 4, 4,\n",
       "       2, 4, 4, 4, 2, 4, 4, 2, 2, 2, 2, 2, 2, 4, 4, 4, 2, 2, 4, 4, 4, 4,\n",
       "       4, 4, 4, 2, 4, 4, 4, 2, 4, 4, 4, 4, 4, 2, 2, 4, 2, 2, 4, 2, 4, 4,\n",
       "       4, 2, 4, 4, 2, 2, 2, 4, 2, 4, 2, 4, 2, 2, 4, 4, 2, 2, 2, 4, 4, 4,\n",
       "       2, 2, 2, 2, 4, 4, 2, 4, 2, 4, 4, 4, 2, 4, 4, 2, 4, 4, 4, 4, 2, 2,\n",
       "       4, 4, 2, 2, 2, 4, 4, 4, 4, 2, 4, 4, 2, 2, 4, 2, 2, 2, 4, 2, 4, 2,\n",
       "       4, 4, 2, 2, 2, 4, 2, 4, 4, 4, 4, 2, 4, 2, 2, 2, 4, 4, 4, 2, 2, 4,\n",
       "       4, 4, 4, 2, 4, 4, 2, 2, 2, 4, 4, 2, 4, 4, 2, 2, 4, 4, 2, 2, 4, 4,\n",
       "       4, 2, 4, 2, 4, 2, 2, 2, 4, 4, 4, 2, 4, 4, 2, 4, 4, 4, 2, 4, 4, 4,\n",
       "       4, 2, 4, 2, 4, 4, 4, 4, 2, 4, 2, 4, 4, 4, 2, 2, 4, 2, 2, 4, 2, 2,\n",
       "       4, 2, 4, 4, 4, 4, 4, 4, 4, 2, 2, 2, 4, 4, 2, 4, 4, 4, 4, 2, 4, 4])"
      ]
     },
     "execution_count": 46,
     "metadata": {},
     "output_type": "execute_result"
    }
   ],
   "source": [
    "ypred"
   ]
  },
  {
   "cell_type": "code",
   "execution_count": 47,
   "metadata": {
    "execution": {
     "iopub.execute_input": "2020-11-27T14:26:16.055749Z",
     "iopub.status.busy": "2020-11-27T14:26:16.054405Z",
     "iopub.status.idle": "2020-11-27T14:26:16.264666Z",
     "shell.execute_reply": "2020-11-27T14:26:16.264029Z"
    },
    "papermill": {
     "duration": 6.515883,
     "end_time": "2020-11-27T14:26:16.264804",
     "exception": false,
     "start_time": "2020-11-27T14:26:09.748921",
     "status": "completed"
    },
    "tags": []
   },
   "outputs": [
    {
     "data": {
      "text/plain": [
       "(array([[  0.,   0., 105.,   0., 159.,   0.,   0.,   0.,   0.,   0.,   0.,\n",
       "           0.,   0.,   0.,   0.,   0.,   0.,   0.],\n",
       "        [ 27.,  17.,  38.,  19.,  24.,  10.,  19.,   9.,   8.,   9.,  22.,\n",
       "          10.,  13.,   9.,  12.,   5.,  11.,   2.]]),\n",
       " array([ 0.        ,  0.94444444,  1.88888889,  2.83333333,  3.77777778,\n",
       "         4.72222222,  5.66666667,  6.61111111,  7.55555556,  8.5       ,\n",
       "         9.44444444, 10.38888889, 11.33333333, 12.27777778, 13.22222222,\n",
       "        14.16666667, 15.11111111, 16.05555556, 17.        ]),\n",
       " <a list of 2 Lists of Patches objects>)"
      ]
     },
     "execution_count": 47,
     "metadata": {},
     "output_type": "execute_result"
    },
    {
     "data": {
      "image/png": "[encoded data removed]",
      "text/plain": [
       "<Figure size 432x288 with 1 Axes>"
      ]
     },
     "metadata": {
      "needs_background": "light"
     },
     "output_type": "display_data"
    }
   ],
   "source": [
    "#ypred_classes = np.apply_along_axis(lambda a:a.argmax(), 1, ypred)\n",
    "#plt.hist(ypred,alpha=0.5)\n",
    "plt.hist([ypred,idiy_val], bins=len(types))"
   ]
  },
  {
   "cell_type": "code",
   "execution_count": 48,
   "metadata": {
    "execution": {
     "iopub.execute_input": "2020-11-27T14:26:28.439363Z",
     "iopub.status.busy": "2020-11-27T14:26:28.438500Z",
     "iopub.status.idle": "2020-11-27T14:26:28.441398Z",
     "shell.execute_reply": "2020-11-27T14:26:28.440867Z"
    },
    "papermill": {
     "duration": 6.200784,
     "end_time": "2020-11-27T14:26:28.441503",
     "exception": false,
     "start_time": "2020-11-27T14:26:22.240719",
     "status": "completed"
    },
    "tags": []
   },
   "outputs": [],
   "source": [
    "from sklearn.metrics import accuracy_score"
   ]
  },
  {
   "cell_type": "code",
   "execution_count": 49,
   "metadata": {
    "execution": {
     "iopub.execute_input": "2020-11-27T14:26:41.078999Z",
     "iopub.status.busy": "2020-11-27T14:26:41.078194Z",
     "iopub.status.idle": "2020-11-27T14:26:41.082509Z",
     "shell.execute_reply": "2020-11-27T14:26:41.082997Z"
    },
    "papermill": {
     "duration": 6.613134,
     "end_time": "2020-11-27T14:26:41.083142",
     "exception": false,
     "start_time": "2020-11-27T14:26:34.470008",
     "status": "completed"
    },
    "tags": []
   },
   "outputs": [
    {
     "name": "stdout",
     "output_type": "stream",
     "text": [
      "0.11363636363636363\n"
     ]
    }
   ],
   "source": [
    "print(accuracy_score(ypred, idiy_val))"
   ]
  },
  {
   "cell_type": "markdown",
   "metadata": {
    "papermill": {
     "duration": 5.938934,
     "end_time": "2020-11-27T14:26:53.308352",
     "exception": false,
     "start_time": "2020-11-27T14:26:47.369418",
     "status": "completed"
    },
    "tags": []
   },
   "source": [
    "worse than random :'((((("
   ]
  },
  {
   "cell_type": "code",
   "execution_count": 50,
   "metadata": {
    "execution": {
     "iopub.execute_input": "2020-11-27T14:27:06.264525Z",
     "iopub.status.busy": "2020-11-27T14:27:06.263587Z",
     "iopub.status.idle": "2020-11-27T14:27:06.415291Z",
     "shell.execute_reply": "2020-11-27T14:27:06.415816Z"
    },
    "papermill": {
     "duration": 6.59787,
     "end_time": "2020-11-27T14:27:06.415943",
     "exception": false,
     "start_time": "2020-11-27T14:26:59.818073",
     "status": "completed"
    },
    "tags": []
   },
   "outputs": [
    {
     "name": "stderr",
     "output_type": "stream",
     "text": [
      "/opt/conda/lib/python3.7/site-packages/ipykernel_launcher.py:4: RuntimeWarning: divide by zero encountered in log\n",
      "  after removing the cwd from sys.path.\n"
     ]
    },
    {
     "data": {
      "text/plain": [
       "<matplotlib.image.AxesImage at 0x7f5b9c91a7d0>"
      ]
     },
     "execution_count": 50,
     "metadata": {},
     "output_type": "execute_result"
    },
    {
     "data": {
      "image/png": "[encoded data removed]",
      "text/plain": [
       "<Figure size 432x288 with 1 Axes>"
      ]
     },
     "metadata": {
      "needs_background": "light"
     },
     "output_type": "display_data"
    }
   ],
   "source": [
    "from sklearn.metrics import confusion_matrix\n",
    "\n",
    "cm = confusion_matrix(idiy_val, ypred)\n",
    "plt.imshow(np.log(cm))"
   ]
  },
  {
   "cell_type": "markdown",
   "metadata": {
    "papermill": {
     "duration": 6.043968,
     "end_time": "2020-11-27T14:27:19.189718",
     "exception": false,
     "start_time": "2020-11-27T14:27:13.145750",
     "status": "completed"
    },
    "tags": []
   },
   "source": [
    "# Using GLOVE to make predictions by counting the number of subwords of synonyms of the types inside Pokemon names"
   ]
  },
  {
   "cell_type": "markdown",
   "metadata": {
    "papermill": {
     "duration": 6.286376,
     "end_time": "2020-11-27T14:27:31.798891",
     "exception": false,
     "start_time": "2020-11-27T14:27:25.512515",
     "status": "completed"
    },
    "tags": []
   },
   "source": [
    "I try using the well-know fact that fire-related word are used in the name of a pokemon (for example \"Typhlosion\" contains a part of \"explosion\", which is in the set of words close too \"fire\"). So I look for matches."
   ]
  },
  {
   "cell_type": "code",
   "execution_count": 51,
   "metadata": {
    "execution": {
     "iopub.execute_input": "2020-11-27T14:27:44.557116Z",
     "iopub.status.busy": "2020-11-27T14:27:44.555813Z",
     "iopub.status.idle": "2020-11-27T14:27:44.557889Z",
     "shell.execute_reply": "2020-11-27T14:27:44.556321Z"
    },
    "papermill": {
     "duration": 6.680584,
     "end_time": "2020-11-27T14:27:44.558019",
     "exception": false,
     "start_time": "2020-11-27T14:27:37.877435",
     "status": "completed"
    },
    "tags": []
   },
   "outputs": [],
   "source": [
    "# For which values of k a k-uplet will be looked for in the pokemon name\n",
    "char_range = [4,5,6,7] "
   ]
  },
  {
   "cell_type": "markdown",
   "metadata": {
    "papermill": {
     "duration": 6.278874,
     "end_time": "2020-11-27T14:27:56.811095",
     "exception": false,
     "start_time": "2020-11-27T14:27:50.532221",
     "status": "completed"
    },
    "tags": []
   },
   "source": [
    "## Preprocessing"
   ]
  },
  {
   "cell_type": "code",
   "execution_count": 52,
   "metadata": {
    "execution": {
     "iopub.execute_input": "2020-11-27T14:28:09.976007Z",
     "iopub.status.busy": "2020-11-27T14:28:09.975098Z",
     "iopub.status.idle": "2020-11-27T14:28:10.548253Z",
     "shell.execute_reply": "2020-11-27T14:28:10.547747Z"
    },
    "papermill": {
     "duration": 7.337662,
     "end_time": "2020-11-27T14:28:10.548361",
     "exception": false,
     "start_time": "2020-11-27T14:28:03.210699",
     "status": "completed"
    },
    "tags": []
   },
   "outputs": [],
   "source": [
    "scores = np.zeros(shape=(df.shape[0], len(types)*len(char_range)))\n",
    "\n",
    "name_s = {}\n",
    "\n",
    "for index, row in df.iterrows():\n",
    "    name = clean(row['Name'])\n",
    "    \n",
    "    for k in char_range:\n",
    "        for i in range(len(name)-k):\n",
    "            sub_name = name[i:i+k]\n",
    "            if sub_name not in name_s:\n",
    "                name_s[sub_name] = []\n",
    "            name_s[sub_name].append(index)\n",
    "    \n",
    "for j,t in enumerate(types):\n",
    "    ms = glove.most_similar(clean(t), topn=n-1)\n",
    "    close_words = [(clean(str(x[0])),x[1]) for x in ms]\n",
    "    close_words.append((clean(t),1))\n",
    "\n",
    "    for ind,k in enumerate(char_range):\n",
    "        for w,s in close_words:\n",
    "            for i in range(len(w)-k):\n",
    "                sub_word = w[i:i+k]\n",
    "                if sub_word in name_s:\n",
    "                    pokemons_containing_sw = name_s[sub_word]\n",
    "                    for index in pokemons_containing_sw:\n",
    "                        scores[index,j*len(char_range)+ind] += s\n",
    "            \n",
    "\n",
    "\n",
    "    "
   ]
  },
  {
   "cell_type": "code",
   "execution_count": 53,
   "metadata": {
    "execution": {
     "iopub.execute_input": "2020-11-27T14:28:23.165993Z",
     "iopub.status.busy": "2020-11-27T14:28:23.164472Z",
     "iopub.status.idle": "2020-11-27T14:28:23.306034Z",
     "shell.execute_reply": "2020-11-27T14:28:23.306581Z"
    },
    "papermill": {
     "duration": 6.160296,
     "end_time": "2020-11-27T14:28:23.306747",
     "exception": false,
     "start_time": "2020-11-27T14:28:17.146451",
     "status": "completed"
    },
    "tags": []
   },
   "outputs": [
    {
     "data": {
      "text/plain": [
       "<matplotlib.image.AxesImage at 0x7f5b9c777c50>"
      ]
     },
     "execution_count": 53,
     "metadata": {},
     "output_type": "execute_result"
    },
    {
     "data": {
      "image/png": "[encoded data removed]",
      "text/plain": [
       "<Figure size 432x288 with 1 Axes>"
      ]
     },
     "metadata": {
      "needs_background": "light"
     },
     "output_type": "display_data"
    }
   ],
   "source": [
    "\n",
    "plt.imshow(scores[171,:].reshape((len(types),len(char_range))))"
   ]
  },
  {
   "cell_type": "code",
   "execution_count": 54,
   "metadata": {
    "execution": {
     "iopub.execute_input": "2020-11-27T14:28:35.553854Z",
     "iopub.status.busy": "2020-11-27T14:28:35.552968Z",
     "iopub.status.idle": "2020-11-27T14:28:35.557935Z",
     "shell.execute_reply": "2020-11-27T14:28:35.557411Z"
    },
    "papermill": {
     "duration": 5.999407,
     "end_time": "2020-11-27T14:28:35.558030",
     "exception": false,
     "start_time": "2020-11-27T14:28:29.558623",
     "status": "completed"
    },
    "tags": []
   },
   "outputs": [],
   "source": [
    "def inv_avg(x):\n",
    "    return 0 if x.mean() == 0 else 1/x.mean()\n",
    "inverse_averages = np.apply_along_axis(inv_avg, 0, scores)"
   ]
  },
  {
   "cell_type": "code",
   "execution_count": 55,
   "metadata": {
    "execution": {
     "iopub.execute_input": "2020-11-27T14:28:48.546397Z",
     "iopub.status.busy": "2020-11-27T14:28:48.545572Z",
     "iopub.status.idle": "2020-11-27T14:28:48.701835Z",
     "shell.execute_reply": "2020-11-27T14:28:48.702569Z"
    },
    "papermill": {
     "duration": 6.869185,
     "end_time": "2020-11-27T14:28:48.702703",
     "exception": false,
     "start_time": "2020-11-27T14:28:41.833518",
     "status": "completed"
    },
    "tags": []
   },
   "outputs": [
    {
     "data": {
      "text/plain": [
       "<matplotlib.image.AxesImage at 0x7f5b9be44710>"
      ]
     },
     "execution_count": 55,
     "metadata": {},
     "output_type": "execute_result"
    },
    {
     "data": {
      "image/png": "[encoded data removed]",
      "text/plain": [
       "<Figure size 432x288 with 1 Axes>"
      ]
     },
     "metadata": {
      "needs_background": "light"
     },
     "output_type": "display_data"
    }
   ],
   "source": [
    "plt.imshow(inverse_averages.reshape((len(types),len(char_range))))"
   ]
  },
  {
   "cell_type": "markdown",
   "metadata": {
    "papermill": {
     "duration": 6.62624,
     "end_time": "2020-11-27T14:29:01.300881",
     "exception": false,
     "start_time": "2020-11-27T14:28:54.674641",
     "status": "completed"
    },
    "tags": []
   },
   "source": [
    "## Fitting a simple model"
   ]
  },
  {
   "cell_type": "code",
   "execution_count": 56,
   "metadata": {
    "execution": {
     "iopub.execute_input": "2020-11-27T14:29:13.871429Z",
     "iopub.status.busy": "2020-11-27T14:29:13.870465Z",
     "iopub.status.idle": "2020-11-27T14:29:13.875103Z",
     "shell.execute_reply": "2020-11-27T14:29:13.874607Z"
    },
    "papermill": {
     "duration": 6.278427,
     "end_time": "2020-11-27T14:29:13.875198",
     "exception": false,
     "start_time": "2020-11-27T14:29:07.596771",
     "status": "completed"
    },
    "tags": []
   },
   "outputs": [],
   "source": [
    "freqX = inverse_averages*scores\n",
    "freqy = y_of_predictor\n",
    "names = list(df['Name'])\n",
    "\n",
    "freqX_train, freqX_val, freqy_train, freqy_val, names_train, names_val =\\\n",
    "    train_test_split(freqX,freqy,names,test_size = 0.33,\\\n",
    "                     shuffle=True, random_state=1)"
   ]
  },
  {
   "cell_type": "code",
   "execution_count": 57,
   "metadata": {
    "execution": {
     "iopub.execute_input": "2020-11-27T14:29:26.559525Z",
     "iopub.status.busy": "2020-11-27T14:29:26.558663Z",
     "iopub.status.idle": "2020-11-27T14:29:26.561796Z",
     "shell.execute_reply": "2020-11-27T14:29:26.561221Z"
    },
    "papermill": {
     "duration": 6.605313,
     "end_time": "2020-11-27T14:29:26.561900",
     "exception": false,
     "start_time": "2020-11-27T14:29:19.956587",
     "status": "completed"
    },
    "tags": []
   },
   "outputs": [],
   "source": [
    "freq_reg = LogisticRegression(max_iter = 10000)"
   ]
  },
  {
   "cell_type": "code",
   "execution_count": 58,
   "metadata": {
    "execution": {
     "iopub.execute_input": "2020-11-27T14:29:38.743329Z",
     "iopub.status.busy": "2020-11-27T14:29:38.742453Z",
     "iopub.status.idle": "2020-11-27T14:29:39.082288Z",
     "shell.execute_reply": "2020-11-27T14:29:39.082827Z"
    },
    "papermill": {
     "duration": 6.323033,
     "end_time": "2020-11-27T14:29:39.082965",
     "exception": false,
     "start_time": "2020-11-27T14:29:32.759932",
     "status": "completed"
    },
    "tags": []
   },
   "outputs": [
    {
     "data": {
      "text/plain": [
       "LogisticRegression(max_iter=10000)"
      ]
     },
     "execution_count": 58,
     "metadata": {},
     "output_type": "execute_result"
    }
   ],
   "source": [
    "freq_reg.fit(freqX_train, freqy_train)"
   ]
  },
  {
   "cell_type": "code",
   "execution_count": 59,
   "metadata": {
    "execution": {
     "iopub.execute_input": "2020-11-27T14:29:51.488675Z",
     "iopub.status.busy": "2020-11-27T14:29:51.487900Z",
     "iopub.status.idle": "2020-11-27T14:29:51.491109Z",
     "shell.execute_reply": "2020-11-27T14:29:51.491724Z"
    },
    "papermill": {
     "duration": 6.014908,
     "end_time": "2020-11-27T14:29:51.491855",
     "exception": false,
     "start_time": "2020-11-27T14:29:45.476947",
     "status": "completed"
    },
    "tags": []
   },
   "outputs": [
    {
     "name": "stdout",
     "output_type": "stream",
     "text": [
      "0.1856060606060606\n"
     ]
    }
   ],
   "source": [
    "print(accuracy_score(freqy_val, freq_reg.predict(freqX_val)))"
   ]
  },
  {
   "cell_type": "markdown",
   "metadata": {
    "papermill": {
     "duration": 7.009327,
     "end_time": "2020-11-27T14:30:05.136716",
     "exception": false,
     "start_time": "2020-11-27T14:29:58.127389",
     "status": "completed"
    },
    "tags": []
   },
   "source": [
    "## Finding the best model and hyperparameters"
   ]
  },
  {
   "cell_type": "code",
   "execution_count": 60,
   "metadata": {
    "execution": {
     "iopub.execute_input": "2020-11-27T14:30:17.593791Z",
     "iopub.status.busy": "2020-11-27T14:30:17.593011Z",
     "iopub.status.idle": "2020-11-27T14:30:17.680263Z",
     "shell.execute_reply": "2020-11-27T14:30:17.679716Z"
    },
    "papermill": {
     "duration": 6.307779,
     "end_time": "2020-11-27T14:30:17.680360",
     "exception": false,
     "start_time": "2020-11-27T14:30:11.372581",
     "status": "completed"
    },
    "tags": []
   },
   "outputs": [],
   "source": [
    "from sklearn.svm import SVC\n",
    "from sklearn.tree import DecisionTreeClassifier"
   ]
  },
  {
   "cell_type": "code",
   "execution_count": 61,
   "metadata": {
    "execution": {
     "iopub.execute_input": "2020-11-27T14:30:30.265978Z",
     "iopub.status.busy": "2020-11-27T14:30:30.265100Z",
     "iopub.status.idle": "2020-11-27T14:30:32.684611Z",
     "shell.execute_reply": "2020-11-27T14:30:32.685100Z"
    },
    "papermill": {
     "duration": 8.910411,
     "end_time": "2020-11-27T14:30:32.685227",
     "exception": false,
     "start_time": "2020-11-27T14:30:23.774816",
     "status": "completed"
    },
    "tags": []
   },
   "outputs": [
    {
     "name": "stdout",
     "output_type": "stream",
     "text": [
      "0.1856060606060606\n",
      "0.1893939393939394\n",
      "0.10984848484848485\n",
      "0.1856060606060606\n",
      "0.11363636363636363\n"
     ]
    }
   ],
   "source": [
    "freq_models = [LogisticRegression(C = 1, max_iter = 10000), \n",
    "               LogisticRegression(C = 100, max_iter = 10000), \n",
    "               SVC(), \n",
    "               SVC(kernel='linear'), \n",
    "               DecisionTreeClassifier(max_depth=6)]\n",
    "\n",
    "for m in freq_models:\n",
    "    m.fit(freqX_train, freqy_train)\n",
    "    print(accuracy_score(freqy_val, m.predict(freqX_val)))"
   ]
  },
  {
   "cell_type": "code",
   "execution_count": 62,
   "metadata": {
    "execution": {
     "iopub.execute_input": "2020-11-27T14:30:44.949392Z",
     "iopub.status.busy": "2020-11-27T14:30:44.948272Z",
     "iopub.status.idle": "2020-11-27T14:31:41.141547Z",
     "shell.execute_reply": "2020-11-27T14:31:41.140856Z"
    },
    "papermill": {
     "duration": 62.215601,
     "end_time": "2020-11-27T14:31:41.141694",
     "exception": false,
     "start_time": "2020-11-27T14:30:38.926093",
     "status": "completed"
    },
    "tags": []
   },
   "outputs": [
    {
     "name": "stdout",
     "output_type": "stream",
     "text": [
      "using p = 0.5\n",
      "using n = 200\n",
      "0.18181818181818182\n",
      "using n = 250\n",
      "0.19318181818181818\n",
      "using n = 300\n",
      "0.2159090909090909\n",
      "using n = 350\n",
      "0.18181818181818182\n",
      "using n = 400\n",
      "0.18181818181818182\n",
      "using p = 1\n",
      "using n = 200\n",
      "0.1856060606060606\n",
      "using n = 250\n",
      "0.19318181818181818\n",
      "using n = 300\n",
      "0.21212121212121213\n",
      "using n = 350\n",
      "0.1856060606060606\n",
      "using n = 400\n",
      "0.1856060606060606\n",
      "using p = 2\n",
      "using n = 200\n",
      "0.1856060606060606\n",
      "using n = 250\n",
      "0.1856060606060606\n",
      "using n = 300\n",
      "0.2196969696969697\n",
      "using n = 350\n",
      "0.20075757575757575\n",
      "using n = 400\n",
      "0.1856060606060606\n",
      "using p = 3\n",
      "using n = 200\n",
      "0.1856060606060606\n",
      "using n = 250\n",
      "0.19696969696969696\n",
      "using n = 300\n",
      "0.21212121212121213\n",
      "using n = 350\n",
      "0.20833333333333334\n",
      "using n = 400\n",
      "0.19696969696969696\n",
      "using p = 4\n",
      "using n = 200\n",
      "0.1893939393939394\n",
      "using n = 250\n",
      "0.19696969696969696\n",
      "using n = 300\n",
      "0.20075757575757575\n",
      "using n = 350\n",
      "0.20833333333333334\n",
      "using n = 400\n",
      "0.20454545454545456\n"
     ]
    }
   ],
   "source": [
    "for p in [0.5,1,2,3,4]:\n",
    "    print('using p =',p)\n",
    "    for n in [200,250,300,350,400]:\n",
    "        print('using n =',n)\n",
    "\n",
    "        scores = np.zeros(shape=(df.shape[0], len(types)*len(char_range)))\n",
    "\n",
    "        name_s = {}\n",
    "\n",
    "        for index, row in df.iterrows():\n",
    "            name = clean(row['Name'])\n",
    "\n",
    "            for k in char_range:\n",
    "                for i in range(len(name)-k):\n",
    "                    sub_name = name[i:i+k]\n",
    "                    if sub_name not in name_s:\n",
    "                        name_s[sub_name] = []\n",
    "                    name_s[sub_name].append(index)\n",
    "\n",
    "        for j,t in enumerate(types):\n",
    "            ms = glove.most_similar(clean(t), topn=n-1)\n",
    "            close_words = [(clean(str(x[0])),x[1]) for x in ms]\n",
    "            close_words.append((clean(t),1))\n",
    "\n",
    "            for ind,k in enumerate(char_range):\n",
    "                for w,s in close_words:\n",
    "                    for i in range(len(w)-k):\n",
    "                        sub_word = w[i:i+k]\n",
    "                        if sub_word in name_s:\n",
    "                            pokemons_containing_sw = name_s[sub_word]\n",
    "                            for index in pokemons_containing_sw:\n",
    "                                scores[index,j*len(char_range)+ind] += s**p\n",
    "\n",
    "        inverse_averages = np.apply_along_axis(inv_avg, 0, scores)\n",
    "\n",
    "        freqX = inverse_averages*scores\n",
    "        freqy = y_of_predictor\n",
    "        names = list(df['Name'])\n",
    "\n",
    "        freqX_train, freqX_val, freqy_train, freqy_val, names_train, names_val =\\\n",
    "            train_test_split(freqX,freqy,names,test_size = 0.33,\\\n",
    "                             shuffle=True, random_state=1)\n",
    "\n",
    "        freq_model = LogisticRegression(penalty='none', max_iter = 10000)\n",
    "\n",
    "        freq_model.fit(freqX_train, freqy_train)\n",
    "        print(accuracy_score(freqy_val, freq_model.predict(freqX_val)))"
   ]
  },
  {
   "cell_type": "markdown",
   "metadata": {
    "papermill": {
     "duration": 5.98519,
     "end_time": "2020-11-27T14:31:53.315770",
     "exception": false,
     "start_time": "2020-11-27T14:31:47.330580",
     "status": "completed"
    },
    "tags": []
   },
   "source": [
    "Fitting the best model"
   ]
  },
  {
   "cell_type": "code",
   "execution_count": 63,
   "metadata": {
    "execution": {
     "iopub.execute_input": "2020-11-27T14:32:06.785462Z",
     "iopub.status.busy": "2020-11-27T14:32:06.780755Z",
     "iopub.status.idle": "2020-11-27T14:32:08.922367Z",
     "shell.execute_reply": "2020-11-27T14:32:08.921633Z"
    },
    "papermill": {
     "duration": 9.021955,
     "end_time": "2020-11-27T14:32:08.922526",
     "exception": false,
     "start_time": "2020-11-27T14:31:59.900571",
     "status": "completed"
    },
    "tags": []
   },
   "outputs": [
    {
     "name": "stdout",
     "output_type": "stream",
     "text": [
      "Accuracy :  0.2196969696969697\n"
     ]
    }
   ],
   "source": [
    "n = 300\n",
    "\n",
    "scores = np.zeros(shape=(df.shape[0], len(types)*len(char_range)))\n",
    "\n",
    "name_s = {}\n",
    "\n",
    "for index, row in df.iterrows():\n",
    "    name = clean(row['Name'])\n",
    "\n",
    "    for k in char_range:\n",
    "        for i in range(len(name)-k):\n",
    "            sub_name = name[i:i+k]\n",
    "            if sub_name not in name_s:\n",
    "                name_s[sub_name] = []\n",
    "            name_s[sub_name].append(index)\n",
    "\n",
    "for j,t in enumerate(types):\n",
    "    ms = glove.most_similar(clean(t), topn=n-1)\n",
    "    close_words = [(clean(str(x[0])),x[1]) for x in ms]\n",
    "    close_words.append((clean(t),1))\n",
    "\n",
    "    for ind,k in enumerate(char_range):\n",
    "        for w,s in close_words:\n",
    "            for i in range(len(w)-k):\n",
    "                sub_word = w[i:i+k]\n",
    "                if sub_word in name_s:\n",
    "                    pokemons_containing_sw = name_s[sub_word]\n",
    "                    for index in pokemons_containing_sw:\n",
    "                        scores[index,j*len(char_range)+ind] += s**2\n",
    "\n",
    "inverse_averages = np.apply_along_axis(inv_avg, 0, scores)\n",
    "\n",
    "freqX = inverse_averages*scores\n",
    "freqy = y_of_predictor\n",
    "names = list(df['Name'])\n",
    "\n",
    "freqX_train, freqX_val, freqy_train, freqy_val, names_train, names_val =\\\n",
    "    train_test_split(freqX,freqy,names,test_size = 0.33,\\\n",
    "                     shuffle=True, random_state=1)\n",
    "\n",
    "freq_model = LogisticRegression(penalty='none', max_iter = 10000)\n",
    "\n",
    "freq_model.fit(freqX_train, freqy_train)\n",
    "print('Accuracy : ',accuracy_score(freqy_val, freq_model.predict(freqX_val)))"
   ]
  },
  {
   "cell_type": "markdown",
   "metadata": {
    "papermill": {
     "duration": 6.22442,
     "end_time": "2020-11-27T14:32:21.130064",
     "exception": false,
     "start_time": "2020-11-27T14:32:14.905644",
     "status": "completed"
    },
    "tags": []
   },
   "source": [
    "So our best guess accuracy can be achieved using this method, and is arround 22%."
   ]
  },
  {
   "cell_type": "markdown",
   "metadata": {
    "papermill": {
     "duration": 6.629742,
     "end_time": "2020-11-27T14:32:33.816013",
     "exception": false,
     "start_time": "2020-11-27T14:32:27.186271",
     "status": "completed"
    },
    "tags": []
   },
   "source": [
    "## Error Analysis"
   ]
  },
  {
   "cell_type": "code",
   "execution_count": 64,
   "metadata": {
    "execution": {
     "iopub.execute_input": "2020-11-27T14:32:46.320010Z",
     "iopub.status.busy": "2020-11-27T14:32:46.318993Z",
     "iopub.status.idle": "2020-11-27T14:32:46.324802Z",
     "shell.execute_reply": "2020-11-27T14:32:46.325408Z"
    },
    "papermill": {
     "duration": 6.126617,
     "end_time": "2020-11-27T14:32:46.325574",
     "exception": false,
     "start_time": "2020-11-27T14:32:40.198957",
     "status": "completed"
    },
    "tags": []
   },
   "outputs": [
    {
     "name": "stdout",
     "output_type": "stream",
     "text": [
      "Accuracy over the training set : 0.39552238805970147\n"
     ]
    }
   ],
   "source": [
    "print('Accuracy over the training set :', accuracy_score(freqy_train, freq_model.predict(freqX_train)))"
   ]
  },
  {
   "cell_type": "markdown",
   "metadata": {
    "papermill": {
     "duration": 6.084247,
     "end_time": "2020-11-27T14:32:58.636351",
     "exception": false,
     "start_time": "2020-11-27T14:32:52.552104",
     "status": "completed"
    },
    "tags": []
   },
   "source": [
    "There is quite a lot of overfitting, but all my attempts at reducing it only resulted in less accuracy on the validation set."
   ]
  },
  {
   "cell_type": "code",
   "execution_count": 65,
   "metadata": {
    "execution": {
     "iopub.execute_input": "2020-11-27T14:33:12.291192Z",
     "iopub.status.busy": "2020-11-27T14:33:12.290312Z",
     "iopub.status.idle": "2020-11-27T14:33:12.433405Z",
     "shell.execute_reply": "2020-11-27T14:33:12.434011Z"
    },
    "papermill": {
     "duration": 6.399177,
     "end_time": "2020-11-27T14:33:12.434169",
     "exception": false,
     "start_time": "2020-11-27T14:33:06.034992",
     "status": "completed"
    },
    "tags": []
   },
   "outputs": [
    {
     "data": {
      "text/plain": [
       "<matplotlib.image.AxesImage at 0x7f5b9d6c4290>"
      ]
     },
     "execution_count": 65,
     "metadata": {},
     "output_type": "execute_result"
    },
    {
     "data": {
      "image/png": "[encoded data removed]",
      "text/plain": [
       "<Figure size 432x288 with 1 Axes>"
      ]
     },
     "metadata": {
      "needs_background": "light"
     },
     "output_type": "display_data"
    }
   ],
   "source": [
    "preds = freq_model.predict(freqX_val)\n",
    "cm = confusion_matrix(freqy_val, preds)\n",
    "plt.imshow(cm)"
   ]
  },
  {
   "cell_type": "code",
   "execution_count": 66,
   "metadata": {
    "execution": {
     "iopub.execute_input": "2020-11-27T14:33:24.786494Z",
     "iopub.status.busy": "2020-11-27T14:33:24.785596Z",
     "iopub.status.idle": "2020-11-27T14:33:24.976995Z",
     "shell.execute_reply": "2020-11-27T14:33:24.978124Z"
    },
    "papermill": {
     "duration": 6.495036,
     "end_time": "2020-11-27T14:33:24.978258",
     "exception": false,
     "start_time": "2020-11-27T14:33:18.483222",
     "status": "completed"
    },
    "tags": []
   },
   "outputs": [
    {
     "name": "stdout",
     "output_type": "stream",
     "text": [
      "['Grass', 'Fire', 'Water', 'Bug', 'Normal', 'Poison', 'Electric', 'Ground', 'Fairy', 'Fighting', 'Psychic', 'Rock', 'Ghost', 'Ice', 'Dragon', 'Dark', 'Steel', 'Flying']\n"
     ]
    },
    {
     "data": {
      "image/png": "[encoded data removed]",
      "text/plain": [
       "<Figure size 432x288 with 1 Axes>"
      ]
     },
     "metadata": {
      "needs_background": "light"
     },
     "output_type": "display_data"
    }
   ],
   "source": [
    "plt.hist([preds, freqy_val], bins=len(types))\n",
    "print(types)"
   ]
  },
  {
   "cell_type": "markdown",
   "metadata": {
    "papermill": {
     "duration": 6.560023,
     "end_time": "2020-11-27T14:33:37.532671",
     "exception": false,
     "start_time": "2020-11-27T14:33:30.972648",
     "status": "completed"
    },
    "tags": []
   },
   "source": [
    "It seems to love the type \"Normal\"."
   ]
  },
  {
   "cell_type": "markdown",
   "metadata": {
    "papermill": {
     "duration": 6.210223,
     "end_time": "2020-11-27T14:33:49.802464",
     "exception": false,
     "start_time": "2020-11-27T14:33:43.592241",
     "status": "completed"
    },
    "tags": []
   },
   "source": [
    "# Final prediction on the validation set"
   ]
  },
  {
   "cell_type": "markdown",
   "metadata": {
    "papermill": {
     "duration": 6.548529,
     "end_time": "2020-11-27T14:34:02.575780",
     "exception": false,
     "start_time": "2020-11-27T14:33:56.027251",
     "status": "completed"
    },
    "tags": []
   },
   "source": [
    "The prediction made by the algorithm :"
   ]
  },
  {
   "cell_type": "code",
   "execution_count": 67,
   "metadata": {
    "execution": {
     "iopub.execute_input": "2020-11-27T14:34:15.989957Z",
     "iopub.status.busy": "2020-11-27T14:34:15.976545Z",
     "iopub.status.idle": "2020-11-27T14:34:16.634666Z",
     "shell.execute_reply": "2020-11-27T14:34:16.626351Z"
    },
    "papermill": {
     "duration": 6.929112,
     "end_time": "2020-11-27T14:34:16.634844",
     "exception": false,
     "start_time": "2020-11-27T14:34:09.705732",
     "status": "completed"
    },
    "tags": []
   },
   "outputs": [
    {
     "name": "stdout",
     "output_type": "stream",
     "text": [
      "                          Name Predicted type Actual type\n",
      "0    charizardmega charizard y           Fire        Fire\n",
      "1                    abomasnow         Normal       Grass\n",
      "2                      sentret         Normal      Normal\n",
      "3                       litleo          Water        Fire\n",
      "4                    octillery        Psychic       Water\n",
      "5                   helioptile       Electric    Electric\n",
      "6                       dialga         Normal       Steel\n",
      "7          deoxysdefense forme         Dragon     Psychic\n",
      "8                     rapidash         Normal        Fire\n",
      "9                       swanna         Normal       Water\n",
      "10                     tyrogue         Normal    Fighting\n",
      "11                   exeggutor         Normal       Grass\n",
      "12                     silcoon         Normal         Bug\n",
      "13       sharpedomega sharpedo           Dark       Water\n",
      "14       tornadustherian forme            Bug      Flying\n",
      "15                     leafeon          Grass       Grass\n",
      "16                   infernape         Normal        Fire\n",
      "17                    lillipup          Water      Normal\n",
      "18         steelixmega steelix          Steel       Steel\n",
      "19                    barboach         Poison       Water\n",
      "20                     wingull           Dark       Water\n",
      "21                        uxie         Normal     Psychic\n",
      "22                       minun          Steel    Electric\n",
      "23                      magmar         Normal        Fire\n",
      "24     landorusincarnate forme          Water      Ground\n",
      "25                      golbat         Normal      Poison\n",
      "26                      elgyem         Normal     Psychic\n",
      "27                     golduck            Bug       Water\n",
      "28                      gogoat         Normal       Grass\n",
      "29                     koffing          Water      Poison\n",
      "30           mawilemega mawile         Normal       Steel\n",
      "31                      glalie         Normal         Ice\n",
      "32       beedrillmega beedrill         Normal         Bug\n",
      "33                     pignite          Ghost        Fire\n",
      "34                    graveler       Electric        Rock\n",
      "35                     machoke            Bug    Fighting\n",
      "36                    ducklett        Psychic       Water\n",
      "37                   cryogonal         Normal         Ice\n",
      "38                  talonflame         Dragon        Fire\n",
      "39                       inkay         Normal        Dark\n",
      "40                    smoochum         Dragon         Ice\n",
      "41                       klang         Normal       Steel\n",
      "42                      skrelp         Normal      Poison\n",
      "43                     poliwag          Water       Water\n",
      "44                    prinplup          Water       Water\n",
      "45                      audino         Normal      Normal\n",
      "46                     solosis       Electric     Psychic\n",
      "47                      flygon         Normal      Ground\n",
      "48                   vanillite            Ice         Ice\n",
      "49                     dedenne         Normal    Electric\n",
      "50                    monferno         Normal        Fire\n",
      "51                     mesprit          Grass     Psychic\n",
      "52                  chandelure          Water       Ghost\n",
      "53                    maractus        Psychic       Grass\n",
      "54                     grovyle          Grass       Grass\n",
      "55                     milotic       Electric       Water\n",
      "56                      lombre         Normal       Water\n",
      "57                     flaaffy         Normal    Electric\n",
      "58                   frogadier         Normal       Water\n",
      "59                    slowpoke          Water       Water\n",
      "60                    garchomp         Normal      Dragon\n",
      "61                   pachirisu            Bug    Electric\n",
      "62                      gengar         Normal       Ghost\n",
      "63                       luxio         Normal    Electric\n",
      "64                     sneasel          Water        Dark\n",
      "65                      raikou         Normal    Electric\n",
      "66                     lanturn         Ground       Water\n",
      "67                      hoppip          Water       Grass\n",
      "68                     sliggoo         Dragon      Dragon\n",
      "69                    braviary         Normal      Normal\n",
      "70                     porygon         Normal      Normal\n",
      "71                     glaceon        Psychic         Ice\n",
      "72                     nincada         Normal         Bug\n",
      "73                   staraptor         Normal      Normal\n",
      "74                   trevenant            Bug       Ghost\n",
      "75                      rhydon         Normal      Ground\n",
      "76                    beheeyem         Normal     Psychic\n",
      "77                     psyduck         Normal       Water\n",
      "78                     solrock         Normal        Rock\n",
      "79       venusaurmega venusaur            Bug       Grass\n",
      "80                   probopass       Fighting        Rock\n",
      "81                      weedle       Electric         Bug\n",
      "82       houndoommega houndoom            Bug        Dark\n",
      "83                   salamence           Fire      Dragon\n",
      "84                     torkoal         Normal        Fire\n",
      "85                     heatmor           Dark        Fire\n",
      "86                   chingling            Bug     Psychic\n",
      "87                     beartic            Bug         Ice\n",
      "88                     dugtrio         Normal      Ground\n",
      "89                    phantump       Electric       Ghost\n",
      "90                     chespin         Normal       Grass\n",
      "91                    spritzee          Grass       Fairy\n",
      "92                    makuhita         Normal    Fighting\n",
      "93       gourgeistaverage size            Ice       Ghost\n",
      "94         pidgeotmega pidgeot         Normal      Normal\n",
      "95                       azelf         Normal     Psychic\n",
      "96                     kadabra         Normal     Psychic\n",
      "97                      cleffa         Normal       Fairy\n",
      "98                   serperior           Fire       Grass\n",
      "99                      joltik         Normal         Bug\n",
      "100                  girafarig         Normal      Normal\n",
      "101                  magmortar           Fire        Fire\n",
      "102                   musharna          Water     Psychic\n",
      "103                    shelmet            Bug         Bug\n",
      "104                 gothitelle          Ghost     Psychic\n",
      "105                   remoraid       Electric       Water\n",
      "106        altariamega altaria         Dragon      Dragon\n",
      "107                      rotom         Normal    Electric\n",
      "108                 farfetch'd         Normal      Normal\n",
      "109                   politoed       Electric       Water\n",
      "110                  shroomish       Fighting       Grass\n",
      "111    manectricmega manectric       Electric    Electric\n",
      "112                  vileplume         Normal       Grass\n",
      "113    tyranitarmega tyranitar           Rock        Rock\n",
      "114                   sunflora         Normal       Grass\n",
      "115                  ferroseed          Grass       Grass\n",
      "116  aerodactylmega aerodactyl         Dragon        Rock\n",
      "117                  toxicroak         Poison      Poison\n",
      "118      landorustherian forme            Bug      Ground\n",
      "119                      gloom         Normal       Grass\n",
      "120                     swinub         Normal         Ice\n",
      "121                   greninja          Water       Water\n",
      "122        gourgeistsuper size          Ghost       Ghost\n",
      "123                    bibarel         Normal      Normal\n",
      "124                  excadrill       Fighting      Ground\n",
      "125          shayminland forme       Electric       Grass\n",
      "126                     gulpin         Normal      Poison\n",
      "127                     regice         Normal         Ice\n",
      "128                  vespiquen         Normal         Bug\n",
      "129                     mankey          Water    Fighting\n",
      "130                   skarmory         Dragon       Steel\n",
      "131                  clawitzer         Normal       Water\n",
      "132                     spinda         Normal      Normal\n",
      "133                    honedge          Water       Steel\n",
      "134                   mime jr.         Normal     Psychic\n",
      "135    meloettapirouette forme         Normal      Normal\n",
      "136                 electabuzz          Ghost    Electric\n",
      "137                  combusken          Ghost        Fire\n",
      "138                    drowzee          Water     Psychic\n",
      "139                    cherubi         Normal       Grass\n",
      "140                     meowth         Normal      Normal\n",
      "141        pumpkaboosmall size            Bug       Ghost\n",
      "142                    finneon         Normal       Water\n",
      "143                    surskit         Normal         Bug\n",
      "144                    gliscor         Normal      Ground\n",
      "145                  metagross          Steel       Steel\n",
      "146                    mienfoo         Normal    Fighting\n",
      "147         kyuremwhite kyurem         Normal      Dragon\n",
      "148                   larvesta            Bug         Bug\n",
      "149                  mightyena          Water        Dark\n",
      "150                   nidorina         Poison      Poison\n",
      "151                   staravia         Normal      Normal\n",
      "152                    steelix          Steel       Steel\n",
      "153                    haxorus         Normal      Dragon\n",
      "154                   clefable         Poison       Fairy\n",
      "155                   trapinch       Electric      Ground\n",
      "156                 scatterbug          Ghost         Bug\n",
      "157       keldeoresolute forme         Dragon       Water\n",
      "158                    timburr         Poison    Fighting\n",
      "159                    voltorb         Normal    Electric\n",
      "160        hoopahoopa confined         Normal     Psychic\n",
      "161                     metang          Steel       Steel\n",
      "162                  bulbasaur         Normal       Grass\n",
      "163                    loudred         Normal      Normal\n",
      "164                    servine          Ghost       Grass\n",
      "165                    machamp         Normal    Fighting\n",
      "166                    victini          Ghost     Psychic\n",
      "167      cameruptmega camerupt           Fire        Fire\n",
      "168                  poliwhirl          Water       Water\n",
      "169                   bergmite         Normal         Ice\n",
      "170                      snivy         Normal       Grass\n",
      "171                    breloom         Normal       Grass\n",
      "172                   roserade          Grass       Grass\n",
      "173                   spinarak            Bug         Bug\n",
      "174         kyuremblack kyurem         Normal      Dragon\n",
      "175                   basculin         Normal       Water\n",
      "176                    dratini          Ghost      Dragon\n",
      "177                    petilil         Normal       Grass\n",
      "178                  dragonite          Ghost      Dragon\n",
      "179                   simipour         Normal       Water\n",
      "180                   dusclops         Normal       Ghost\n",
      "181                  eelektrik       Electric    Electric\n",
      "182        gourgeistsmall size            Bug       Ghost\n",
      "183                   caterpie          Water         Bug\n",
      "184                 electivire          Ghost    Electric\n",
      "185                     palkia            Ice       Water\n",
      "186                     swablu         Normal      Normal\n",
      "187                  tranquill       Fighting      Normal\n",
      "188                     dodrio         Normal      Normal\n",
      "189                     horsea         Ground       Water\n",
      "190                  hitmonlee         Normal    Fighting\n",
      "191                  volcarona         Normal         Bug\n",
      "192                    blitzle         Normal    Electric\n",
      "193                   skuntank          Water      Poison\n",
      "194    tornadusincarnate forme           Rock      Flying\n",
      "195        gourgeistlarge size          Ghost       Ghost\n",
      "196                   houndoom            Bug        Dark\n",
      "197                 fletchling         Normal      Normal\n",
      "198                     togepi         Normal       Fairy\n",
      "199       keldeoordinary forme            Ice       Water\n",
      "200                    scyther         Normal         Bug\n",
      "201                    wailmer          Water       Water\n",
      "202                      aipom         Normal      Normal\n",
      "203         deoxysnormal forme         Ground     Psychic\n",
      "204        gallademega gallade        Psychic     Psychic\n",
      "205                   torterra          Ghost       Grass\n",
      "206                      gible         Normal      Dragon\n",
      "207                   clefairy           Rock       Fairy\n",
      "208                   magneton           Rock    Electric\n",
      "209                    jirachi         Normal       Steel\n",
      "210                     goodra         Poison      Dragon\n",
      "211                       abra         Normal     Psychic\n",
      "212                 weepinbell         Ground       Grass\n",
      "213                     ledian       Fighting         Bug\n",
      "214                    chansey       Fighting      Normal\n",
      "215                      unown         Normal     Psychic\n",
      "216                   magikarp          Ghost       Water\n",
      "217                   tirtouga         Normal       Water\n",
      "218                    shiftry         Dragon       Grass\n",
      "219                    weezing          Water      Poison\n",
      "220                      shinx            Bug    Electric\n",
      "221                   ampharos         Normal    Electric\n",
      "222                    flabébé         Normal       Fairy\n",
      "223                    glameow         Normal      Normal\n",
      "224                    dewgong         Normal       Water\n",
      "225                   nidoran♀         Normal      Poison\n",
      "226                    bronzor         Normal       Steel\n",
      "227                     emboar         Normal        Fire\n",
      "228                   dragalge         Ground      Poison\n",
      "229                    xerneas          Water       Fairy\n",
      "230                  dragonair          Ghost      Dragon\n",
      "231                    furfrou         Normal      Normal\n",
      "232                  relicanth          Water       Water\n",
      "233                    metapod           Rock         Bug\n",
      "234                   larvitar         Normal        Rock\n",
      "235                    rhyhorn         Normal      Ground\n",
      "236                      golem         Normal        Rock\n",
      "237         deoxysattack forme        Psychic     Psychic\n",
      "238                   darumaka         Normal        Fire\n",
      "239                    crustle         Normal         Bug\n",
      "240                  magnemite       Electric    Electric\n",
      "241                    kingler         Normal       Water\n",
      "242                     kakuna         Normal         Bug\n",
      "243                  terrakion         Normal        Rock\n",
      "244                   totodile       Fighting       Water\n",
      "245                    banette         Normal       Ghost\n",
      "246                   slurpuff         Normal       Fairy\n",
      "247                       onix         Normal        Rock\n",
      "248                   dusknoir         Normal       Ghost\n",
      "249                     plusle         Normal    Electric\n",
      "250                    turtwig       Fighting       Grass\n",
      "251                   regirock         Normal        Rock\n",
      "252                   vivillon          Water         Bug\n",
      "253                 wigglytuff         Normal      Normal\n",
      "254                   corphish        Psychic       Water\n",
      "255                    swoobat         Normal     Psychic\n",
      "256                   gorebyss         Normal       Water\n",
      "257                 cofagrigus         Normal       Ghost\n",
      "258                      munna         Normal     Psychic\n",
      "259                  blastoise          Water       Water\n",
      "260                   slowking          Water       Water\n",
      "261                   simisear         Normal        Fire\n",
      "262                    flareon         Normal        Fire\n",
      "263                    gurdurr         Normal    Fighting\n"
     ]
    }
   ],
   "source": [
    "pred_df = pd.DataFrame(columns=['Name', 'Predicted type', 'Actual type'])\n",
    "\n",
    "for i,x in enumerate(preds):\n",
    "    name = names_val[i]\n",
    "    pred_df = pred_df.append({'Name':name,\n",
    "                              'Predicted type':types[x],\n",
    "                              'Actual type': types[freqy_val[i]]}, ignore_index = True)\n",
    "\n",
    "pd.set_option('display.max_rows', None)\n",
    "print(pred_df)"
   ]
  }
 ],
 "metadata": {
  "kernelspec": {
   "display_name": "Python 3",
   "language": "python",
   "name": "python3"
  },
  "language_info": {
   "codemirror_mode": {
    "name": "ipython",
    "version": 3
   },
   "file_extension": ".py",
   "mimetype": "text/x-python",
   "name": "python",
   "nbconvert_exporter": "python",
   "pygments_lexer": "ipython3",
   "version": "3.7.6"
  },
  "papermill": {
   "duration": 1357.704562,
   "end_time": "2020-11-27T14:34:24.410773",
   "environment_variables": {},
   "exception": null,
   "input_path": "__notebook__.ipynb",
   "output_path": "__notebook__.ipynb",
   "parameters": {},
   "start_time": "2020-11-27T14:11:46.706211",
   "version": "2.1.0"
  }
 },
 "nbformat": 4,
 "nbformat_minor": 4
}
